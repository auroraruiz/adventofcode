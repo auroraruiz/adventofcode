{
 "cells": [
  {
   "cell_type": "markdown",
   "id": "8b6b7247-a23a-4646-8a87-826b1eca89ef",
   "metadata": {},
   "source": [
    "# Day 9 - Solution\n",
    "\n",
    "## [Problem statement](https://adventofcode.com/2023/day/9)"
   ]
  },
  {
   "cell_type": "code",
   "execution_count": 1,
   "id": "0ee7ab12-26b4-4165-9cd8-d0055ecdf471",
   "metadata": {},
   "outputs": [],
   "source": [
    "\"\"\"\n",
    "This module contains the solution to the Day 9 Advent of Code challenge.\n",
    "\"\"\"\n",
    "import os\n",
    "import time"
   ]
  },
  {
   "cell_type": "markdown",
   "id": "b14b73eb-60cc-4574-8f3a-3c420e714dc2",
   "metadata": {},
   "source": [
    "### Part 1"
   ]
  },
  {
   "cell_type": "code",
   "execution_count": 2,
   "id": "c35a4f2c-2bd5-4847-88fa-c46329875448",
   "metadata": {},
   "outputs": [],
   "source": [
    "def solution(report_list):\n",
    "    \"\"\"\n",
    "    Processes a list of reports to compute the next logical value\n",
    "    of each report.\n",
    "\n",
    "    For each report, it repeatedly calculates the difference\n",
    "    between consecutive elements until all elements in the report\n",
    "    are the same. It then sums the last elements obtained \n",
    "    in each iteration, which correspond with the following logical\n",
    "    value of the input report, and adds it to the overall sum.\n",
    "\n",
    "    Args:\n",
    "    report_list (list): A list of lists, where each inner list\n",
    "    is a report containing integers.\n",
    "\n",
    "    Returns:\n",
    "    int: The sum of the computed values from each report.\n",
    "    \"\"\"\n",
    "    ans = 0\n",
    "    for report in report_list:\n",
    "        values = []\n",
    "        values.append(report[-1])\n",
    "        while len(set(report)) > 1:\n",
    "            j = 0\n",
    "            while j < len(report) - 1:\n",
    "                report[j] = report[j + 1] - report[j]\n",
    "                j += 1\n",
    "            report = report[:-1]\n",
    "            values.append(report[-1])\n",
    "        next_value = sum(values)\n",
    "        ans += next_value\n",
    "    return ans"
   ]
  },
  {
   "cell_type": "markdown",
   "id": "4bb3b674-6bd7-49ec-9141-b6b12996c5bb",
   "metadata": {},
   "source": [
    "### Part 2"
   ]
  },
  {
   "cell_type": "code",
   "execution_count": 3,
   "id": "8e38efe2-4c83-4342-94fe-3a4b6befa374",
   "metadata": {},
   "outputs": [],
   "source": [
    "def looper(values):\n",
    "    \"\"\"\n",
    "    Computes a final value by iteratively subtracting elements in a list\n",
    "    from an accumulator.\n",
    "\n",
    "    Args:\n",
    "    values (list): A list of integers.\n",
    "\n",
    "    Returns:\n",
    "    int: The final computed value after iterating through the list.\n",
    "    \"\"\"\n",
    "    act = 0\n",
    "    for value in values:\n",
    "        act = value - act\n",
    "    return act\n",
    "\n",
    "def solution2(report_list):\n",
    "    \"\"\"\n",
    "    Processes a list of reports to compute a sum of values derived from each report.\n",
    "\n",
    "    For each report, it repeatedly calculates the difference between consecutive elements \n",
    "    until all elements in the report are the same. It then reverses the list of the first \n",
    "    elements obtained in each iteration and computes a final value using the looper function.\n",
    "    This final vlaue corresponds to the previous logical value of each report.\n",
    "\n",
    "    Args:\n",
    "    report_list (list): A list of lists, where each inner list is a report containing integers.\n",
    "\n",
    "    Returns:\n",
    "    int: The sum of the computed values from each report.\n",
    "    \"\"\"\n",
    "    ans = 0\n",
    "    for report in report_list:\n",
    "        values = []\n",
    "        values.append(report[0])\n",
    "        while len(set(report)) > 1:\n",
    "            j = 0\n",
    "            while j < len(report) - 1:\n",
    "                report[j] = report[j + 1] - report[j]\n",
    "                j += 1\n",
    "            report = report[:-1]\n",
    "            values.append(report[0])\n",
    "        values.reverse()\n",
    "        next_value = looper(values)\n",
    "        ans += next_value\n",
    "    return ans"
   ]
  },
  {
   "cell_type": "markdown",
   "id": "2d2e20a6-87ad-453b-ba84-c4e492488140",
   "metadata": {},
   "source": [
    "### Solution"
   ]
  },
  {
   "cell_type": "code",
   "execution_count": 4,
   "id": "01a95140-d40f-4d8b-a301-31892d851fed",
   "metadata": {},
   "outputs": [
    {
     "name": "stdout",
     "output_type": "stream",
     "text": [
      "Solution part 1:  1743490457\n",
      "Solution part 2:  1053\n",
      "Execution time: 0.00799870491027832 seconds\n"
     ]
    }
   ],
   "source": [
    "#Solution\n",
    "\n",
    "#Code to open the input file\n",
    "path = os.getcwd()\n",
    "FILE = \"day9.txt\"\n",
    "\n",
    "with open(path + '/' + FILE, encoding = 'utf-8') as f:\n",
    "        lines = f.read().strip()\n",
    "        lines = lines.split('\\n')\n",
    "\n",
    "reports_input = [x.split(\" \") for x in lines]\n",
    "reports_input = [[int(x) for x in report] for report in reports_input]\n",
    "\n",
    "start_time = time.time()\n",
    "# Part 1\n",
    "print(\"Solution part 1: \", solution(reports_input))\n",
    "# Part 2\n",
    "reports_2_input = [x.split(\" \") for x in lines]\n",
    "reports_2_input = [[int(x) for x in report] for report in reports_2_input]\n",
    "print(\"Solution part 2: \", solution2(reports_2_input))\n",
    "end_time = time.time()\n",
    "print(f\"Execution time: {end_time - start_time} seconds\")"
   ]
  }
 ],
 "metadata": {
  "kernelspec": {
   "display_name": "Python 3 (ipykernel)",
   "language": "python",
   "name": "python3"
  },
  "language_info": {
   "codemirror_mode": {
    "name": "ipython",
    "version": 3
   },
   "file_extension": ".py",
   "mimetype": "text/x-python",
   "name": "python",
   "nbconvert_exporter": "python",
   "pygments_lexer": "ipython3",
   "version": "3.10.12"
  }
 },
 "nbformat": 4,
 "nbformat_minor": 5
}
