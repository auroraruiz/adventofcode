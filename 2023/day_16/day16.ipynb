{
 "cells": [
  {
   "cell_type": "markdown",
   "id": "8b6b7247-a23a-4646-8a87-826b1eca89ef",
   "metadata": {},
   "source": [
    "# Day 16 - Solution\n",
    "\n",
    "## [Problem statement](https://adventofcode.com/2023/day/16)"
   ]
  },
  {
   "cell_type": "code",
   "execution_count": 9,
   "id": "0ee7ab12-26b4-4165-9cd8-d0055ecdf471",
   "metadata": {},
   "outputs": [],
   "source": [
    "\"\"\"\n",
    "This module contains the solution to the Day 16 Advent of Code challenge.\n",
    "\"\"\"\n",
    "import os\n",
    "import time"
   ]
  },
  {
   "cell_type": "markdown",
   "id": "b14b73eb-60cc-4574-8f3a-3c420e714dc2",
   "metadata": {},
   "source": [
    "### Part 1"
   ]
  },
  {
   "cell_type": "code",
   "execution_count": 10,
   "id": "ca5ba7e4",
   "metadata": {},
   "outputs": [],
   "source": [
    "def calculate_next(point_dir, grid):\n",
    "    \"\"\"\n",
    "    Calculates the next position and direction based on the current position and direction.\n",
    "\n",
    "    Args:\n",
    "    point_dir (tuple): A tuple containing the current position (x, y) and direction (dir_x, dir_y).\n",
    "    grid (list of list): The grid representing the contraption.\n",
    "\n",
    "    Returns:\n",
    "    tuple: The next position and direction as a tuple, along with any split option if applicable.\n",
    "    \"\"\"\n",
    "    x, y = point_dir[0]\n",
    "    dir_x, dir_y = point_dir[1]\n",
    "    next_dir_x, next_dir_y = dir_x, dir_y\n",
    "    next_x, next_y = x + dir_x, y + dir_y\n",
    "    option = None\n",
    "\n",
    "    if 0 <= x < len(grid) and 0 <= y < len(grid[0]):\n",
    "        if grid[x][y] == '\\\\':\n",
    "            next_dir_x, next_dir_y = dir_y, dir_x\n",
    "        elif grid[x][y] == '/':\n",
    "            next_dir_x, next_dir_y = -dir_y, -dir_x\n",
    "        elif grid[x][y] == '-':\n",
    "            if dir_x != 0:\n",
    "                next_dir_x, next_dir_y = dir_y, dir_x\n",
    "                option = (x - dir_y, y - dir_x), (-dir_y, -dir_x)\n",
    "        elif grid[x][y] == '|':\n",
    "            if dir_y != 0:\n",
    "                next_dir_x, next_dir_y = dir_y, dir_x\n",
    "                option = (x - dir_y, y - dir_x), (-dir_y, -dir_x)\n",
    "\n",
    "        next_x, next_y = x + next_dir_x, y + next_dir_y\n",
    "\n",
    "    return ((next_x, next_y), (next_dir_x, next_dir_y)), option\n",
    "\n",
    "def calculate_stream(start, grid, visited):\n",
    "    \"\"\"\n",
    "    Calculates the path of the beam through the grid and keeps track of energized tiles.\n",
    "\n",
    "    Args:\n",
    "    start (tuple): The starting position and direction of the beam.\n",
    "    grid (list of list): The grid representing the contraption.\n",
    "\n",
    "    Returns:\n",
    "    dict: A dictionary of visited tiles with their energized status.\n",
    "    \"\"\"\n",
    "    queue = [start]\n",
    "    while queue:\n",
    "        current = queue.pop(0)\n",
    "        while current not in visited:\n",
    "            visited[current] = visited.get(current,0)+1\n",
    "            next, option = calculate_next(current,grid)\n",
    "            if option != None and option[0][0] in range(0, len(grid)) and option[0][1] in range(0,len(grid[0])):\n",
    "                queue.append(option)\n",
    "            if next[0][0]<0 or next[0][0]>=len(grid) or next[0][1]<0 or next[0][1]>= len(grid[0]):\n",
    "                break\n",
    "            current = next\n",
    "    return visited\n",
    "\n",
    "def energizer(start,grid):\n",
    "    \"\"\"\n",
    "    Calculates the number of energized tiles starting from a specific position.\n",
    "\n",
    "    Args:\n",
    "    start (tuple): The starting position and direction of the beam.\n",
    "    grid (list of list): The grid representing the contraption.\n",
    "\n",
    "    Returns:\n",
    "    int: The number of energized tiles.\n",
    "    \"\"\"\n",
    "    visited = {}\n",
    "    visited = calculate_stream(start,grid, visited)\n",
    "    visited2 = set()\n",
    "    for key,value in visited:\n",
    "        visited2.add(key)\n",
    "    return (len(visited2))"
   ]
  },
  {
   "cell_type": "markdown",
   "id": "e50dd70c",
   "metadata": {},
   "source": [
    "### Part 2"
   ]
  },
  {
   "cell_type": "code",
   "execution_count": 11,
   "id": "c35a4f2c-2bd5-4847-88fa-c46329875448",
   "metadata": {},
   "outputs": [],
   "source": [
    "def max_energizer(starts, grid):\n",
    "    \"\"\"\n",
    "    Finds the maximum number of energized tiles from all possible starting positions.\n",
    "\n",
    "    Args:\n",
    "    starts (list): A list of starting positions and directions.\n",
    "    grid (list of list): The grid representing the contraption.\n",
    "\n",
    "    Returns:\n",
    "    int: The maximum number of energized tiles from any starting position.\n",
    "    \"\"\"\n",
    "    return max(energizer(start, grid) for start in starts)"
   ]
  },
  {
   "cell_type": "markdown",
   "id": "7f488c21",
   "metadata": {},
   "source": [
    "### Solution"
   ]
  },
  {
   "cell_type": "code",
   "execution_count": 12,
   "id": "0086540d",
   "metadata": {},
   "outputs": [
    {
     "name": "stdout",
     "output_type": "stream",
     "text": [
      "Solution part 1:  7870\n",
      "Solution part 2:  8143\n",
      "Execution time: 2.4587299823760986 seconds\n"
     ]
    }
   ],
   "source": [
    "if __name__ == \"__main__\":\n",
    "    # Code to open the input file\n",
    "    path = os.getcwd()\n",
    "    FILE = \"day16.txt\"\n",
    "    \n",
    "    with open(os.path.join(path, FILE), encoding='utf-8') as f:\n",
    "        lines = f.read().strip()\n",
    "        grid = [list(x) for x in lines.split('\\n')]\n",
    "\n",
    "    start = ((0,0),(0,1))\n",
    "\n",
    "    starts = ([((x,0),(0,1)) for x in range(0, len(grid))]+\n",
    "              [((0,y),(1,0)) for y in range(0,len(grid[0]))]+\n",
    "              [((x,len(grid[0])-1),(0,-1)) for x in range(0, len(grid))]+\n",
    "              [((len(grid)-1,y),(-1,0)) for y in range(0,len(grid[0]))])\n",
    "\n",
    "    start_time = time.time()    \n",
    "    # Part 1 solution\n",
    "    print(\"Solution part 1: \", energizer(start, grid))\n",
    "    # Part 2 solution\n",
    "    print(\"Solution part 2: \", max_energizer(starts,grid))\n",
    "    end_time = time.time()\n",
    "    print(f\"Execution time: {end_time - start_time} seconds\")"
   ]
  }
 ],
 "metadata": {
  "kernelspec": {
   "display_name": "Python 3 (ipykernel)",
   "language": "python",
   "name": "python3"
  },
  "language_info": {
   "codemirror_mode": {
    "name": "ipython",
    "version": 3
   },
   "file_extension": ".py",
   "mimetype": "text/x-python",
   "name": "python",
   "nbconvert_exporter": "python",
   "pygments_lexer": "ipython3",
   "version": "3.9.6"
  }
 },
 "nbformat": 4,
 "nbformat_minor": 5
}
