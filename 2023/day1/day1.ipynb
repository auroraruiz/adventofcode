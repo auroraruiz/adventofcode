{
 "cells": [
  {
   "cell_type": "markdown",
   "id": "86823ce9-96ec-40e1-a639-cada010f99f9",
   "metadata": {},
   "source": [
    "# Day 1 - Solution\n",
    "\n",
    "## [Problem statement](https://adventofcode.com/2023/day/1)"
   ]
  },
  {
   "cell_type": "code",
   "execution_count": 1,
   "id": "8adeee2c-c191-45a3-997d-1d0a20c5fa7b",
   "metadata": {},
   "outputs": [],
   "source": [
    "\"\"\"\n",
    "This module contains the solution to the Day 1 Advent of Code challenge.\n",
    "\"\"\"\n",
    "\n",
    "# importing functools for reduce()\n",
    "from functools import reduce as red\n",
    "import re\n",
    "import time\n",
    "import os\n",
    "import operator"
   ]
  },
  {
   "cell_type": "code",
   "execution_count": 2,
   "id": "e6cd1f15-d2d5-42e4-98a5-6331d9d7bef7",
   "metadata": {},
   "outputs": [],
   "source": [
    "path =  os.getcwd()\n",
    "FILE = \"day1.txt\"\n",
    "\n",
    "with open(path + \"/\" + FILE, encoding=\"utf-8\") as f:\n",
    "    lines = f.readlines()\n",
    "    lines = [item.strip(\"\\n\") for item in lines]"
   ]
  },
  {
   "cell_type": "markdown",
   "id": "ec869d10-9eef-4716-ae2a-899bfa9d405f",
   "metadata": {},
   "source": [
    "### Part 1"
   ]
  },
  {
   "cell_type": "code",
   "execution_count": 3,
   "id": "cbd232b7-3003-4dbb-8d1e-c7deb69d1ae5",
   "metadata": {},
   "outputs": [],
   "source": [
    "def numbers_in_word(word):\n",
    "    \"\"\"\n",
    "    Parameters\n",
    "    ----------\n",
    "    word : string\n",
    "        String that contains at least one integer.\n",
    "\n",
    "    Returns\n",
    "    -------\n",
    "    output : int\n",
    "    \n",
    "        Combines the first digit and the last digit contained in the word \n",
    "    (in that order) to form a single two-digit number.\n",
    "    \"\"\"\n",
    "    word_len = len(word)\n",
    "    i = word_len - 1\n",
    "    #print(word)\n",
    "    while i > -1:\n",
    "        try:\n",
    "            digit2 = int(word[i])\n",
    "            break\n",
    "        except ValueError:\n",
    "            i -= 1\n",
    "\n",
    "    i = 0\n",
    "    while i < word_len:\n",
    "        try:\n",
    "            digit1 = int(word[i])\n",
    "            break\n",
    "        except ValueError:\n",
    "            i += 1\n",
    "\n",
    "    return digit1*10+digit2"
   ]
  },
  {
   "cell_type": "code",
   "execution_count": 4,
   "id": "cfd93c86-61a3-4f14-a8c7-04a93449c7a0",
   "metadata": {},
   "outputs": [],
   "source": [
    "def map_red_lines(list_, map_function, red_function):\n",
    "    \"\"\"\n",
    "    Applies a map function to each element in a list and then reduces the result\n",
    "    using a reduce function.\n",
    "    \n",
    "    Args:\n",
    "        list_ (list): The input list to be processed.\n",
    "        map_function (function): A function to be applied to each element in the list.\n",
    "        red_function (function): A function to be used to reduce the mapped results.\n",
    "    \n",
    "    Returns:\n",
    "        The result of applying the reduce function to the mapped elements of the list.\n",
    "    \"\"\"\n",
    "    return red(red_function,(map(map_function,list_)))"
   ]
  },
  {
   "cell_type": "markdown",
   "id": "edfff18f-b5f7-48be-bcef-672f42ec97cc",
   "metadata": {},
   "source": [
    "### Part 2"
   ]
  },
  {
   "cell_type": "code",
   "execution_count": 5,
   "id": "355904ba-0e6d-4460-82e8-5d23b708be24",
   "metadata": {},
   "outputs": [],
   "source": [
    "digits = [4,5,6,7,9,2,1,3,8]\n",
    "digits_str =  [\"four\", \"five\", \"six\", \"seven\", \"nine\", \"two\", \"one\", \"three\", \"eight\"]\n",
    "digits_dict = dict(zip(digits, digits_str))\n",
    "\n",
    "digits_back = [4,6,8, 1, 2, 3, 9, 7,5]\n",
    "digits_str_back =  [\"four\", \"six\", \"eight\", \"one\", \"two\", \"three\", \"nine\", \"seven\", \"five\"]\n",
    "digits_dict_back = dict(zip(digits_back, digits_str_back))\n",
    "\n",
    "\n",
    "def translator(word, dictionary1=None, dictionary2=None):\n",
    "    \"\"\"\n",
    "    Translate a word containing numeric representations of digits into their \n",
    "    numeric form.\n",
    "    \n",
    "    This function takes a string `word` as input, where numeric digits are \n",
    "    represented by English words, and translates them into their corresponding\n",
    "    numeric form. It utilizes two dictionaries, `dictionary1` and `dictionary2`,\n",
    "    for mapping word representations of digits to their numeric equivalents.\n",
    "    \n",
    "    Args:\n",
    "        word (str): The input word to be translated.\n",
    "        dictionary1 (dict): A dictionary containing mappings for the first \n",
    "        part of the word. The keys are integers representing digits,\n",
    "        and the values are their corresponding English word representations.\n",
    "        Defaults to `digits_dict`.\n",
    "        \n",
    "        dictionary2 (dict): A dictionary containing mappings for the last part\n",
    "        of the word. The keys are integers representing digits, and the values\n",
    "        are their corresponding English word representations.\n",
    "        Defaults to `digits_dict_back`.\n",
    "    \n",
    "    Returns:\n",
    "        str: The translated word with numeric digits.\n",
    "    \n",
    "    Special Cases:\n",
    "        The function handles special cases where \"eightwo\" is translated to \n",
    "        \"8wo\" and \"eighthree\" is translated to \"8hree\" in the first part of \n",
    "        the word, and \"eightwo\" is translated to \"eigh2\" and \"eighthree\" is\n",
    "        translated to \"eigh3\" in the last part of the word.\n",
    "    \"\"\"\n",
    "    if dictionary1 is None:\n",
    "        dictionary1 = digits_dict\n",
    "    if dictionary2 is None:\n",
    "        dictionary2 = digits_dict_back\n",
    "\n",
    "    #Preprocess word\n",
    "    pattern = re.compile(r'([1-9])')\n",
    "    word_list = re.split(pattern, word)\n",
    "\n",
    "    word_i = word_list[0]\n",
    "    word_f = word_list[-1]\n",
    "\n",
    "    #Special case: threeight, eighthree\n",
    "    word_i = re.sub(\"eightwo\", \"8wo\", word_i)\n",
    "    word_i = re.sub(\"eighthree\", \"8hree\", word_i)\n",
    "\n",
    "    for i in dictionary1:\n",
    "        word_i = re.sub(dictionary1[i], str(i), word_i)\n",
    "\n",
    "    word_list[0] = word_i\n",
    "\n",
    "    if len(word_list)>1:\n",
    "        word_f = re.sub(\"eightwo\", \"eigh2\", word_f)\n",
    "        word_f = re.sub(\"eighthree\", \"eigh3\", word_f)\n",
    "\n",
    "        for i in dictionary2:\n",
    "            word_f = re.sub(dictionary2[i], str(i), word_f)\n",
    "        word_list[-1] = word_f\n",
    "\n",
    "    word = \"\".join(word_list)\n",
    "\n",
    "    return word"
   ]
  },
  {
   "cell_type": "code",
   "execution_count": 6,
   "id": "87096df6-a40a-4056-827c-7d18c903f2ca",
   "metadata": {},
   "outputs": [],
   "source": [
    "def numbers_in_word_2(word, func_trans = translator):\n",
    "    \"\"\"\n",
    "    Parameters\n",
    "    ----------\n",
    "    word : string\n",
    "        String that contains at least one integer.\n",
    "    dictionary: dict\n",
    "        Dictionary. Its keys must be integers.\n",
    "\n",
    "    Returns\n",
    "    -------\n",
    "    output : int\n",
    "    \n",
    "        Combines the first digit and the last digit contained in the word (\n",
    "        either as an integer or as a string) in that order to form a single\n",
    "        two-digit number.\n",
    "    \"\"\"\n",
    "    word = func_trans(word)\n",
    "\n",
    "    word_len = len(word)\n",
    "    i = word_len-1\n",
    "\n",
    "    while i > -1:\n",
    "        try:\n",
    "            digit2 = int(word[i])\n",
    "            break\n",
    "        except ValueError:\n",
    "            i -= 1\n",
    "\n",
    "    i = 0\n",
    "    while i < word_len:\n",
    "        try:\n",
    "            digit1 = int(word[i])\n",
    "            break\n",
    "        except ValueError:\n",
    "            i += 1\n",
    "\n",
    "    #print(digit1*10+digit2,\"\\n\")\n",
    "    return digit1*10+digit2"
   ]
  },
  {
   "cell_type": "markdown",
   "id": "78638ad8-695d-474a-8981-0f3ea4e01c84",
   "metadata": {},
   "source": [
    "### Solution"
   ]
  },
  {
   "cell_type": "code",
   "execution_count": 7,
   "id": "1b1f21e1-e45f-4ec9-ab0f-c9ca0c125ff9",
   "metadata": {},
   "outputs": [
    {
     "name": "stdout",
     "output_type": "stream",
     "text": [
      "Solution part 1:  55538\n",
      "Time ex. of part 1:  0.007595539093017578\n",
      "Solution part 2:  54875\n",
      "Time ex. of part 2:  0.014401912689208984\n"
     ]
    }
   ],
   "source": [
    "#Part 1\n",
    "time_0 = time.time()\n",
    "print(\"Solution part 1: \", map_red_lines(lines, numbers_in_word, lambda a,b: a+b))\n",
    "time_1 = time.time()\n",
    "print(\"Time ex. of part 1: \", time_1-time_0)\n",
    "\n",
    "#Part 2\n",
    "time_0 = time.time()\n",
    "print(\"Solution part 2: \", map_red_lines(lines, numbers_in_word_2, operator.add))\n",
    "time_2 = time.time()\n",
    "print(\"Time ex. of part 2: \", time_2-time_0)"
   ]
  },
  {
   "cell_type": "markdown",
   "id": "717d1512-7697-479e-802a-d619d2c65d8a",
   "metadata": {},
   "source": [
    "### Extra\n",
    "#### Using the %%timeit module to compare the lambda a,b :a+b function to the operator.add"
   ]
  },
  {
   "cell_type": "code",
   "execution_count": 8,
   "id": "428e1697-024a-4336-acd6-bc97e51599d0",
   "metadata": {},
   "outputs": [
    {
     "name": "stdout",
     "output_type": "stream",
     "text": [
      "7.06 ms ± 13.3 µs per loop (mean ± std. dev. of 7 runs, 100 loops each)\n"
     ]
    }
   ],
   "source": [
    "%%timeit\n",
    "map_red_lines(lines, numbers_in_word, lambda a,b: a+b)"
   ]
  },
  {
   "cell_type": "code",
   "execution_count": 9,
   "id": "23ffc1d6-4612-414c-a2a3-b4a9f1b5ef6a",
   "metadata": {},
   "outputs": [
    {
     "name": "stdout",
     "output_type": "stream",
     "text": [
      "7.02 ms ± 51.3 µs per loop (mean ± std. dev. of 7 runs, 100 loops each)\n"
     ]
    }
   ],
   "source": [
    "%%timeit\n",
    "map_red_lines(lines, numbers_in_word, operator.add)"
   ]
  }
 ],
 "metadata": {
  "kernelspec": {
   "display_name": "Python 3 (ipykernel)",
   "language": "python",
   "name": "python3"
  },
  "language_info": {
   "codemirror_mode": {
    "name": "ipython",
    "version": 3
   },
   "file_extension": ".py",
   "mimetype": "text/x-python",
   "name": "python",
   "nbconvert_exporter": "python",
   "pygments_lexer": "ipython3",
   "version": "3.10.12"
  }
 },
 "nbformat": 4,
 "nbformat_minor": 5
}
