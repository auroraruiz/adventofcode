{
 "cells": [
  {
   "cell_type": "markdown",
   "id": "8b6b7247-a23a-4646-8a87-826b1eca89ef",
   "metadata": {},
   "source": [
    "# Day 5 - Solution\n",
    "\n",
    "## [Problem statement](https://adventofcode.com/2023/day/5)"
   ]
  },
  {
   "cell_type": "code",
   "execution_count": 1,
   "id": "0ee7ab12-26b4-4165-9cd8-d0055ecdf471",
   "metadata": {},
   "outputs": [],
   "source": [
    "\"\"\"\n",
    "This module contains the solution to the Day 5 Advent of Code challenge.\n",
    "\"\"\"\n",
    "import os\n",
    "import time"
   ]
  },
  {
   "cell_type": "markdown",
   "id": "b14b73eb-60cc-4574-8f3a-3c420e714dc2",
   "metadata": {},
   "source": [
    "### Part 1"
   ]
  },
  {
   "cell_type": "code",
   "execution_count": 2,
   "id": "c35a4f2c-2bd5-4847-88fa-c46329875448",
   "metadata": {},
   "outputs": [],
   "source": [
    "def lowest_location(seeds,dict_maps):\n",
    "    \"\"\"\n",
    "    Calculates the lowest location among the locations of all seeds.\n",
    "\n",
    "    Parameters:\n",
    "        seeds (List[int]): List of seed numbers.\n",
    "        dict_maps (dict): Dictionary mapping categories to lists of lists. \n",
    "                          Each list contains (destination, start, range).\n",
    "\n",
    "    Returns:\n",
    "        int: The lowest location found.\n",
    "    \"\"\"\n",
    "    min_dest = float('inf')\n",
    "    for seed in seeds:\n",
    "        seed_input = seed\n",
    "        for _, list_value in dict_maps.items():\n",
    "            for value in list_value:\n",
    "                dest = int(value[0])\n",
    "                start = int(value[1])\n",
    "                rang = int(value[2])\n",
    "                if start <= seed_input < start + rang:\n",
    "                    seed_input = dest + (seed_input - start)\n",
    "                    break\n",
    "        min_dest = min(min_dest, seed_input)\n",
    "    return min_dest"
   ]
  },
  {
   "cell_type": "markdown",
   "id": "229af60f-77c0-4053-af6d-9879dc14696d",
   "metadata": {},
   "source": [
    "For Part 2, I developed a working solution that took too much time to execute. In search of a more efficient solution, I found the following video on Youtube (https://www.youtube.com/watch?v=NmxHw_bHhGM) and adapted their code to my solution."
   ]
  },
  {
   "cell_type": "markdown",
   "id": "4bb3b674-6bd7-49ec-9141-b6b12996c5bb",
   "metadata": {},
   "source": [
    "### Part 2 (inefficient)"
   ]
  },
  {
   "cell_type": "code",
   "execution_count": 3,
   "id": "d7ed3fdd-ee62-4c4f-964f-47b5ec44bdf0",
   "metadata": {},
   "outputs": [],
   "source": [
    "def check_seed(candidate, seeds):\n",
    "    \"\"\"\n",
    "    Checks if the candidate falls within any range defined by the seeds list.\n",
    "    \n",
    "    Args:\n",
    "    candidate (int): The candidate value to be checked.\n",
    "    seeds (list): A list where every other element is a start value and\n",
    "    the following element is the range.\n",
    "\n",
    "    Returns:\n",
    "    int/bool: The candidate value if it falls within any of the ranges; \n",
    "    otherwise, False.\n",
    "    \"\"\"\n",
    "    for k, seed in enumerate(seeds[::2]):\n",
    "        seed_range = seeds[2*k + 1]\n",
    "        if seed <= candidate < seed + seed_range:\n",
    "            return candidate\n",
    "    return False\n",
    "\n",
    "def check_range(candidate, list_values):\n",
    "    \"\"\"\n",
    "    Translates the candidate through a series of mappings defined in list_values.\n",
    "    \n",
    "    Args:\n",
    "    candidate (int): The candidate value to be translated.\n",
    "    list_values (list): A list of tuples/lists, where each sublist contains\n",
    "    three integers (dest, start, range).\n",
    "\n",
    "    Returns:\n",
    "    int: The translated candidate value.\n",
    "    \"\"\"\n",
    "    for value in list_values:\n",
    "        dest = int(value[0])\n",
    "        start = int(value[1])\n",
    "        rang = int(value[2])\n",
    "        if dest <= candidate < dest + rang:\n",
    "            return start + (candidate - dest)\n",
    "    return candidate\n",
    "\n",
    "def reverse_finding(dictionary, seeds, key_names, start):\n",
    "    \"\"\"\n",
    "    Finds a candidate value that, after a series of translations, falls within\n",
    "    a range defined by the seeds list.\n",
    "    \n",
    "    Args:\n",
    "    dictionary (dict): A dictionary containing the mappings for translations.\n",
    "    seeds (list): A list where every other element is a start value and \n",
    "    the following element is the range.\n",
    "    key_names (list): A list of keys to access specific mappings in \n",
    "    the dictionary.\n",
    "\n",
    "    Returns:\n",
    "    int: The found candidate value.\n",
    "    \"\"\"\n",
    "    found =  False\n",
    "    l = start\n",
    "    while not found:\n",
    "        candidate = l\n",
    "        key_names_lenght = len(key_names)\n",
    "        j = 0\n",
    "        while j < key_names_lenght:\n",
    "            candidate = check_range(candidate, dictionary[key_names[j]])\n",
    "            j += 1\n",
    "        if j == len(key_names):\n",
    "            candidate = check_seed(candidate,seeds)\n",
    "            if candidate:\n",
    "                found = True\n",
    "                return l\n",
    "        l += 1\n",
    "    return l"
   ]
  },
  {
   "cell_type": "markdown",
   "id": "46d3025f-ff10-454f-a647-0e2831e464b4",
   "metadata": {},
   "source": [
    "### Part 2 (efficient)"
   ]
  },
  {
   "cell_type": "code",
   "execution_count": 4,
   "id": "8e38efe2-4c83-4342-94fe-3a4b6befa374",
   "metadata": {},
   "outputs": [],
   "source": [
    "def lowest_location_2(seed_ranges, dict_maps, list_maps):\n",
    "    \"\"\"\n",
    "    Calculates the lowest location among the locations of all seed ranges.\n",
    "\n",
    "    Parameters:\n",
    "        seeds (List[int, int]): List of seed ranges.\n",
    "        dict_maps (dict): Dictionary mapping categories to lists of lists. \n",
    "                          Each list contains (destination, start, range).\n",
    "        list_maps (List[strings]): List with the names of the dict_maps keys to iterate\n",
    "\n",
    "    Returns:\n",
    "        int: The lowest location found.\n",
    "    \"\"\"\n",
    "    seeds = seed_ranges\n",
    "    for name in list_maps:\n",
    "        list_values = dict_maps[name]\n",
    "        outputs = []\n",
    "        while len(seeds) > 0:\n",
    "            s,e = seeds.pop()\n",
    "            for dest, start, rang in list_values:\n",
    "                dest, start, rang = int(dest), int(start), int(rang)\n",
    "                ost = max(s, start)\n",
    "                oe = min(e, start + rang)\n",
    "                if ost < oe:\n",
    "                    outputs.append((ost - start + dest, oe - start + dest))\n",
    "                    if ost>s:\n",
    "                        seeds.append((s,ost))\n",
    "                    if e>oe:\n",
    "                        seeds.append((oe,e))\n",
    "                    break\n",
    "            else:\n",
    "                outputs.append((s,e))\n",
    "        seeds = outputs\n",
    "    return min(seeds)[0]"
   ]
  },
  {
   "cell_type": "markdown",
   "id": "2d2e20a6-87ad-453b-ba84-c4e492488140",
   "metadata": {},
   "source": [
    "### Solution"
   ]
  },
  {
   "cell_type": "code",
   "execution_count": 5,
   "id": "01a95140-d40f-4d8b-a301-31892d851fed",
   "metadata": {},
   "outputs": [
    {
     "name": "stdout",
     "output_type": "stream",
     "text": [
      "Solution part 1:  261668924\n",
      "Solution part 2:  24261545\n",
      "Execution time: 0.006265163421630859 seconds\n"
     ]
    }
   ],
   "source": [
    "#Solution\n",
    "\n",
    "#Code to open the input file\n",
    "path = os.getcwd()\n",
    "FILE = \"day5.txt\"\n",
    "\n",
    "with open(path + '/' + FILE, encoding = 'utf-8') as f:\n",
    "    lines = f.read().strip()\n",
    "    lines = lines.split('\\n\\n')\n",
    "\n",
    "seeds_input = lines[0].split(\": \")[1].split(\" \")\n",
    "seeds_input = [int(x) for x in seeds_input]\n",
    "\n",
    "dict_maps_input = {}\n",
    "for i in range(1,len(lines)):\n",
    "    parts = lines[i].split(\":\\n\")\n",
    "    dict_maps_input[parts[0]] = [x.split(\" \") for x in lines[i].split(\":\\n\")[1].split(\"\\n\")]\n",
    "\n",
    "seed_ranges_input = [(seeds_input[i],seeds_input[i] + seeds_input[i+1])\n",
    "                     for i in range(0,len(seeds_input),2)]\n",
    "\n",
    "list_maps_input = [\n",
    "    \"seed-to-soil map\",\n",
    "    \"soil-to-fertilizer map\",\n",
    "    \"fertilizer-to-water map\",\n",
    "    \"water-to-light map\",\n",
    "    \"light-to-temperature map\",\n",
    "    \"temperature-to-humidity map\",\n",
    "    \"humidity-to-location map\"\n",
    "]\n",
    "#Part 1\n",
    "start_time = time.time()\n",
    "print(\"Solution part 1: \", lowest_location(seeds_input,\n",
    "                                           dict_maps_input))\n",
    "#Part 2\n",
    "print(\"Solution part 2: \", lowest_location_2(seed_ranges_input,\n",
    "                                             dict_maps_input,\n",
    "                                             list_maps_input))\n",
    "end_time = time.time()\n",
    "print(f\"Execution time: {end_time - start_time} seconds\")"
   ]
  },
  {
   "cell_type": "code",
   "execution_count": 6,
   "id": "cec0c73f-a4a8-43df-998a-82e882150b38",
   "metadata": {},
   "outputs": [
    {
     "name": "stdout",
     "output_type": "stream",
     "text": [
      "Inneficient solution to part 2:  24261545\n",
      "Execution time: 658.9173324108124 seconds\n"
     ]
    }
   ],
   "source": [
    "# Inefficient solution\n",
    "start_time = time.time()\n",
    "seeds_input = lines[0].split(\": \")[1].split(\" \")\n",
    "seeds_input = [int(x) for x in seeds_input]\n",
    "\n",
    "dict_maps_input = {}\n",
    "for i in range(len(lines)-1,0,-1):\n",
    "    parts = lines[i].split(\":\\n\")\n",
    "    dict_maps_input[parts[0]] = [x.split(\" \")\n",
    "                                 for x in lines[i].split(\":\\n\")[1].split(\"\\n\")]\n",
    "\n",
    "key_names_input = [str(key) for key in dict_maps_input]\n",
    "\n",
    "print(\"Inneficient solution to part 2: \",\n",
    "      reverse_finding(dict_maps_input,\n",
    "                      seeds_input,\n",
    "                      key_names_input,\n",
    "                      start = 0))\n",
    "end_time = time.time()\n",
    "print(f\"Execution time: {end_time - start_time} seconds\")"
   ]
  }
 ],
 "metadata": {
  "kernelspec": {
   "display_name": "Python 3 (ipykernel)",
   "language": "python",
   "name": "python3"
  },
  "language_info": {
   "codemirror_mode": {
    "name": "ipython",
    "version": 3
   },
   "file_extension": ".py",
   "mimetype": "text/x-python",
   "name": "python",
   "nbconvert_exporter": "python",
   "pygments_lexer": "ipython3",
   "version": "3.10.12"
  }
 },
 "nbformat": 4,
 "nbformat_minor": 5
}
