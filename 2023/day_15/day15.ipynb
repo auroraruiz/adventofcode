{
 "cells": [
  {
   "cell_type": "markdown",
   "id": "8b6b7247-a23a-4646-8a87-826b1eca89ef",
   "metadata": {},
   "source": [
    "# Day 15 - Solution\n",
    "\n",
    "## [Problem statement](https://adventofcode.com/2023/day/15)"
   ]
  },
  {
   "cell_type": "code",
   "execution_count": 16,
   "id": "0ee7ab12-26b4-4165-9cd8-d0055ecdf471",
   "metadata": {},
   "outputs": [],
   "source": [
    "\"\"\"\n",
    "This module contains the solution to the Day 15 Advent of Code challenge.\n",
    "\"\"\"\n",
    "import os\n",
    "import time"
   ]
  },
  {
   "cell_type": "markdown",
   "id": "b14b73eb-60cc-4574-8f3a-3c420e714dc2",
   "metadata": {},
   "source": [
    "### Part 1"
   ]
  },
  {
   "cell_type": "code",
   "execution_count": 17,
   "id": "ca5ba7e4",
   "metadata": {},
   "outputs": [],
   "source": [
    "def trans(string):\n",
    "    \"\"\"\n",
    "    Computes a HASH value for a given string based on the specified algorithm.\n",
    "\n",
    "    The HASH algorithm transforms a string into a single number in the range 0 to 255. \n",
    "    It starts with a current value of 0 and processes each character by:\n",
    "    1. Adding the ASCII code of the character to the current value.\n",
    "    2. Multiplying the current value by 17.\n",
    "    3. Taking the remainder when divided by 256.\n",
    "\n",
    "    Args:\n",
    "    string (str): The input string to be hashed.\n",
    "\n",
    "    Returns:\n",
    "    int: The computed HASH value for the input string, ranging from 0 to 255.\n",
    "    \"\"\"\n",
    "    current_value = 0\n",
    "    for item in string:\n",
    "        current_value = (current_value + ord(item)) * 17 % 256\n",
    "    return current_value"
   ]
  },
  {
   "cell_type": "markdown",
   "id": "e50dd70c",
   "metadata": {},
   "source": [
    "### Part 2"
   ]
  },
  {
   "cell_type": "code",
   "execution_count": 18,
   "id": "c35a4f2c-2bd5-4847-88fa-c46329875448",
   "metadata": {},
   "outputs": [],
   "source": [
    "def initializator(lines):\n",
    "    \"\"\"\n",
    "    Initializes the configuration of boxes from the initialization sequence.\n",
    "\n",
    "    Each line specifies an operation for a box that modifies the lenses contained within.\n",
    "    Operations include adding or removing lenses based on the parsed label and focal length.\n",
    "    \n",
    "    Args:\n",
    "    lines (list of str): The initialization sequence, a list of strings representing steps.\n",
    "\n",
    "    Returns:\n",
    "    dict: A dictionary mapping box numbers (0-255) to lists of lens configurations \n",
    "          (each lens represented as [label, focal_length]).\n",
    "    \"\"\"\n",
    "    boxes = {}\n",
    "    for line in lines:\n",
    "        if \"=\" in line:\n",
    "            label, lens_length = line.split(\"=\")\n",
    "            box = trans(label)\n",
    "            if box not in boxes:\n",
    "                boxes[box] = []\n",
    "            if label in boxes[box]:\n",
    "                # Replace existing lens with the new one\n",
    "                index = boxes[box].index(label)\n",
    "                boxes[box][index + 1] = lens_length  # Update focal length\n",
    "            else:\n",
    "                # Add new lens\n",
    "                boxes[box].extend([label, lens_length])\n",
    "        elif \"-\" in line:\n",
    "            label = line.split(\"-\")[0]\n",
    "            box = trans(label)\n",
    "            if box in boxes and label in boxes[box]:\n",
    "                index = boxes[box].index(label)\n",
    "                del boxes[box][index:index + 2]  # Remove the lens and its focal length\n",
    "\n",
    "    return boxes\n",
    "\n",
    "def lens_power(boxes):\n",
    "    \"\"\"\n",
    "    Calculates the total lens focusing power based on the current configuration of boxes.\n",
    "\n",
    "    Each lens contributes to the total focusing power based on its position in the box and its focal length.\n",
    "    The formula used is:\n",
    "    (1 + box number) * (slot number) * (focal length)\n",
    "\n",
    "    Args:\n",
    "    boxes (dict): A dictionary of box configurations with lenses.\n",
    "\n",
    "    Returns:\n",
    "    int: The total focusing power of all lenses across all boxes.\n",
    "    \"\"\"\n",
    "    total_power = 0\n",
    "    for box_num, lenses in boxes.items():\n",
    "        for slot_num in range(0, len(lenses), 2):\n",
    "            label = lenses[slot_num]\n",
    "            focal_length = int(lenses[slot_num + 1])\n",
    "            slot_index = slot_num // 2 + 1  # 1-based slot index\n",
    "            total_power += (1 + box_num) * slot_index * focal_length\n",
    "    return total_power"
   ]
  },
  {
   "cell_type": "markdown",
   "id": "7f488c21",
   "metadata": {},
   "source": [
    "### Solution"
   ]
  },
  {
   "cell_type": "code",
   "execution_count": 19,
   "id": "0086540d",
   "metadata": {},
   "outputs": [
    {
     "name": "stdout",
     "output_type": "stream",
     "text": [
      "Solution part 1:  509784\n",
      "Solution part 2:  230197\n",
      "Execution time: 0.008471965789794922 seconds\n"
     ]
    }
   ],
   "source": [
    "if __name__ == \"__main__\":\n",
    "    # Code to open the input file\n",
    "    path = os.getcwd()\n",
    "    FILE = \"day15.txt\"\n",
    "    \n",
    "    with open(os.path.join(path, FILE), encoding='utf-8') as f:\n",
    "        lines = f.read().strip().split(',')\n",
    "\n",
    "    start_time = time.time()\n",
    "    # Part 1 solution\n",
    "    print(\"Solution part 1: \", sum(trans(line) for line in lines))\n",
    "    # Part 2 solution\n",
    "    boxes = initializator(lines)\n",
    "    print(\"Solution part 2: \", lens_power(boxes))\n",
    "    end_time = time.time()\n",
    "    print(f\"Execution time: {end_time - start_time} seconds\")"
   ]
  }
 ],
 "metadata": {
  "kernelspec": {
   "display_name": "Python 3 (ipykernel)",
   "language": "python",
   "name": "python3"
  },
  "language_info": {
   "codemirror_mode": {
    "name": "ipython",
    "version": 3
   },
   "file_extension": ".py",
   "mimetype": "text/x-python",
   "name": "python",
   "nbconvert_exporter": "python",
   "pygments_lexer": "ipython3",
   "version": "3.9.6"
  }
 },
 "nbformat": 4,
 "nbformat_minor": 5
}
