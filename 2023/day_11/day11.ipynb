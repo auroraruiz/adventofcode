{
 "cells": [
  {
   "cell_type": "markdown",
   "id": "8b6b7247-a23a-4646-8a87-826b1eca89ef",
   "metadata": {},
   "source": [
    "# Day 11 - Solution\n",
    "\n",
    "## [Problem statement](https://adventofcode.com/2023/day/11)"
   ]
  },
  {
   "cell_type": "code",
   "execution_count": 1,
   "id": "0ee7ab12-26b4-4165-9cd8-d0055ecdf471",
   "metadata": {},
   "outputs": [],
   "source": [
    "\"\"\"\n",
    "This module contains the solution to the Day 11 Advent of Code challenge.\n",
    "\"\"\"\n",
    "import os\n",
    "import time"
   ]
  },
  {
   "cell_type": "markdown",
   "id": "b14b73eb-60cc-4574-8f3a-3c420e714dc2",
   "metadata": {},
   "source": [
    "### Parts 1 and 2"
   ]
  },
  {
   "cell_type": "code",
   "execution_count": 2,
   "id": "c35a4f2c-2bd5-4847-88fa-c46329875448",
   "metadata": {},
   "outputs": [],
   "source": [
    "def galaxier(universe, rows, columns):\n",
    "    \"\"\"\n",
    "    Identifies galaxies in the universe and removes rows and columns\n",
    "    without them from the lists.\n",
    "\n",
    "    Args:\n",
    "    universe (list of list of str): A 2D list representing the universe,\n",
    "    where each element is either '.' or '#'.\n",
    "    rows (list of int): A list of row indices.\n",
    "    columns (list of int): A list of column indices.\n",
    "\n",
    "    Returns:\n",
    "    list of tuple: A list of tuples, where each tuple represents the coordinates\n",
    "    of a galaxy in the universe.\n",
    "    \"\"\"\n",
    "    galaxies = []\n",
    "    length =  len(universe)\n",
    "    for i in range(length):\n",
    "        for j in range(len(universe[0])):\n",
    "            if universe[i][j] == \"#\":\n",
    "                galaxies.append((i, j))\n",
    "                if i in rows:\n",
    "                    rows.remove(i)\n",
    "                if j in columns:\n",
    "                    columns.remove(j)\n",
    "    return galaxies\n",
    "\n",
    "def distancer(galaxies, rows, cols, expansion):\n",
    "    \"\"\"\n",
    "    Calculates the total distance between galaxies,\n",
    "    including expansions due to specified rows and columns.\n",
    "\n",
    "    Args:\n",
    "    galaxies (list of tuple): A list of tuples representing the coordinates of galaxies.\n",
    "    rows (list of int): A list of row indices that add to the expansion distance.\n",
    "    cols (list of int): A list of column indices that add to the expansion distance.\n",
    "    expansion (int): The expansion distance to be added for each row and column\n",
    "    in the specified ranges.\n",
    "\n",
    "    Returns:\n",
    "    int: The total calculated distance between galaxies with added expansion distances.\n",
    "    \"\"\"\n",
    "    distances = []\n",
    "    while galaxies:\n",
    "        galaxy = galaxies.pop()\n",
    "        for gal in galaxies:\n",
    "            a = min(galaxy[0], gal[0])\n",
    "            b = max(galaxy[0], gal[0])\n",
    "            c = min(galaxy[1], gal[1])\n",
    "            d = max(galaxy[1], gal[1])\n",
    "            dist = b - a + d - c\n",
    "            for row in rows:\n",
    "                if row in range(a + 1, b):\n",
    "                    dist += expansion\n",
    "            for col in cols:\n",
    "                if col in range(c + 1, d):\n",
    "                    dist += expansion\n",
    "            distances.append(dist)\n",
    "    return sum(distances)"
   ]
  },
  {
   "cell_type": "markdown",
   "id": "2d2e20a6-87ad-453b-ba84-c4e492488140",
   "metadata": {},
   "source": [
    "### Solution"
   ]
  },
  {
   "cell_type": "code",
   "execution_count": 3,
   "id": "01a95140-d40f-4d8b-a301-31892d851fed",
   "metadata": {},
   "outputs": [
    {
     "name": "stdout",
     "output_type": "stream",
     "text": [
      "Solution part 1:  9647174\n",
      "Solution part 2:  377318892554\n",
      "Execution time: 0.4046437740325928 seconds\n"
     ]
    }
   ],
   "source": [
    "# Solution\n",
    "\n",
    "#Code to open the input file\n",
    "path = os.getcwd()\n",
    "FILE = \"day11.txt\"\n",
    "\n",
    "with open(path + '/' + FILE, encoding = 'utf-8') as f:\n",
    "    lines = f.read().strip()\n",
    "    lines = lines.split('\\n')\n",
    "\n",
    "universe_input = [list(line) for line in lines]\n",
    "\n",
    "rows_input = set(range(0, len(universe_input)))\n",
    "cols_input = set(range(0, len(universe_input[0])))\n",
    "\n",
    "galaxy_output = galaxier(universe_input, rows_input, cols_input)\n",
    "\n",
    "start_time = time.time()\n",
    "# Part 1\n",
    "EXPANSION_INPUT_1 = 1\n",
    "print(\"Solution part 1: \", distancer(galaxy_output,\n",
    "                                     rows_input,\n",
    "                                     cols_input,\n",
    "                                     EXPANSION_INPUT_1))\n",
    "# Part 2\n",
    "galaxy_output = galaxier(universe_input, rows_input, cols_input)\n",
    "EXPANSION_INPUT_2 = 999999\n",
    "print(\"Solution part 2: \", distancer(galaxy_output,\n",
    "                                     rows_input,\n",
    "                                     cols_input,\n",
    "                                     EXPANSION_INPUT_2))\n",
    "end_time = time.time()\n",
    "print(f\"Execution time: {end_time - start_time} seconds\")\n"
   ]
  }
 ],
 "metadata": {
  "kernelspec": {
   "display_name": "Python 3 (ipykernel)",
   "language": "python",
   "name": "python3"
  },
  "language_info": {
   "codemirror_mode": {
    "name": "ipython",
    "version": 3
   },
   "file_extension": ".py",
   "mimetype": "text/x-python",
   "name": "python",
   "nbconvert_exporter": "python",
   "pygments_lexer": "ipython3",
   "version": "3.10.12"
  }
 },
 "nbformat": 4,
 "nbformat_minor": 5
}
