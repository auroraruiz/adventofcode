{
 "cells": [
  {
   "cell_type": "markdown",
   "id": "8b6b7247-a23a-4646-8a87-826b1eca89ef",
   "metadata": {},
   "source": [
    "# Day 3 - Solution\n",
    "\n",
    "## [Problem statement](https://adventofcode.com/2023/day/3)"
   ]
  },
  {
   "cell_type": "code",
   "execution_count": 1,
   "id": "0ee7ab12-26b4-4165-9cd8-d0055ecdf471",
   "metadata": {},
   "outputs": [],
   "source": [
    "\"\"\"\n",
    "This module contains the solution to the Day 3 Advent of Code challenge.\n",
    "\"\"\"\n",
    "import os\n",
    "import time"
   ]
  },
  {
   "cell_type": "markdown",
   "id": "b14b73eb-60cc-4574-8f3a-3c420e714dc2",
   "metadata": {},
   "source": [
    "### Parts 1 and 2"
   ]
  },
  {
   "cell_type": "code",
   "execution_count": 2,
   "id": "50251699-e4c9-4df0-a690-f26e51309be2",
   "metadata": {},
   "outputs": [],
   "source": [
    "def check_valid(grid_lines, start_row, start_col, num_length):\n",
    "    \"\"\"    \n",
    "    Check the region next to a number to see if it's a part number.\n",
    "    If it is, check if there's a gear (*) next to the number,\n",
    "    and if positive returns the gear's coordinates.\n",
    "\n",
    "    Parameters:\n",
    "        grid_lines (List[str]): List of strings representing the grid.\n",
    "        start_row (int): Starting row index.\n",
    "        start_col (int): Starting column index.\n",
    "        num_length (int): Length of the number to check from the starting column index.\n",
    "\n",
    "    Returns:\n",
    "        Tuple[bool, bool, Tuple[int, int]]:\n",
    "            - check (bool): True if a non-digit, non-dot character is found.\n",
    "            - gear (bool): True if a gear ('*') is found.\n",
    "            - gear_pos (Tuple[int, int]): Position of the gear, or (-1, -1) if no gear is found.\n",
    "    \"\"\"\n",
    "    check = False\n",
    "    gear = False\n",
    "    gear_pos = (-1, -1)\n",
    "\n",
    "    row_min = max(start_row, 1)\n",
    "    row_max = min(start_row, len(grid_lines) - 2)\n",
    "\n",
    "    col_min = max(start_col, 1)\n",
    "    col_max = min(start_col + num_length, len(grid_lines[0]) - 1)\n",
    "\n",
    "    for row in range(row_min - 1, row_max + 2):\n",
    "        for col in range(col_min - 1, col_max + 1):\n",
    "            char = grid_lines[row][col]\n",
    "            if char != '.' and not char.isdigit():\n",
    "                check = True\n",
    "                if char == '*':\n",
    "                    gear = True\n",
    "                    gear_pos = (row, col)\n",
    "                return check, gear, gear_pos\n",
    "\n",
    "    return check, gear, gear_pos\n",
    "\n",
    "\n",
    "def read_numbers(grid_lines):\n",
    "    \"\"\"\n",
    "    Process the grid grid_lines to identify and sum up part numbers.\n",
    "    Additionally, process the grid grid_lines to identify and sum up part gears ('*').\n",
    "\n",
    "    Parameters:\n",
    "        grid_grid_lines (List[str]): List of strings representing the grid.\n",
    "\n",
    "    Returns:\n",
    "        Tuple[int, int]:\n",
    "            - total_sum (int): The total sum of all part numbers found in the grid.\n",
    "            - gear_sum (int): The total product sum of gears ('*').\n",
    "    \"\"\"\n",
    "    visited = set()\n",
    "    gear_dict = {}\n",
    "    total_sum = 0\n",
    "\n",
    "    for i, line in enumerate(grid_lines):\n",
    "        j = 0\n",
    "        while j < len(line):\n",
    "            if (i, j) in visited:\n",
    "                j += 1\n",
    "                continue\n",
    "\n",
    "            if line[j].isdigit():\n",
    "                number_str = line[j]\n",
    "                start_col = j\n",
    "                while (j + 1) < len(line) and line[j + 1].isdigit():\n",
    "                    j += 1\n",
    "                    visited.add((i, j))\n",
    "                    number_str += line[j]\n",
    "\n",
    "                check_number, gear, gear_pos = check_valid(grid_lines,\n",
    "                                                           i, start_col,\n",
    "                                                           len(number_str))\n",
    "                if gear:\n",
    "                    if gear_pos in gear_dict:\n",
    "                        gear_dict[gear_pos][0] += 1\n",
    "                        gear_dict[gear_pos][1] *= int(number_str)\n",
    "                    else:\n",
    "                        gear_dict[gear_pos] = [1, int(number_str)]\n",
    "\n",
    "                if check_number:\n",
    "                    total_sum += int(number_str)\n",
    "\n",
    "            j += 1\n",
    "\n",
    "    gear_sum = sum(value[1] for value in gear_dict.values() if value[0] >= 2)\n",
    "\n",
    "    return total_sum, gear_sum"
   ]
  },
  {
   "cell_type": "markdown",
   "id": "2d2e20a6-87ad-453b-ba84-c4e492488140",
   "metadata": {},
   "source": [
    "### Solution"
   ]
  },
  {
   "cell_type": "code",
   "execution_count": 3,
   "id": "01a95140-d40f-4d8b-a301-31892d851fed",
   "metadata": {},
   "outputs": [
    {
     "name": "stdout",
     "output_type": "stream",
     "text": [
      "Solution part 1:  532331\n",
      "Solution part 2:  82301120\n",
      "Execution time: 0.03946971893310547 seconds\n"
     ]
    }
   ],
   "source": [
    "#Solution\n",
    "if __name__ == \"__main__\":\n",
    "\n",
    "    #Code to open the input file\n",
    "    path = os.getcwd()\n",
    "    FILE = \"day3.txt\"\n",
    "\n",
    "    with open(os.path.join(path, FILE), encoding='utf-8') as f:\n",
    "        lines = f.readlines()\n",
    "        lines = [item.strip(\"\\n\") for item in lines]\n",
    "\n",
    "    start_time = time.time()\n",
    "    solution = read_numbers(lines)\n",
    "    #Part 1\n",
    "    print(\"Solution part 1: \", solution[0])\n",
    "    #Part 2\n",
    "    print(\"Solution part 2: \",solution[1])\n",
    "    end_time = time.time()\n",
    "    print(f\"Execution time: {end_time - start_time} seconds\")"
   ]
  }
 ],
 "metadata": {
  "kernelspec": {
   "display_name": "Python 3 (ipykernel)",
   "language": "python",
   "name": "python3"
  },
  "language_info": {
   "codemirror_mode": {
    "name": "ipython",
    "version": 3
   },
   "file_extension": ".py",
   "mimetype": "text/x-python",
   "name": "python",
   "nbconvert_exporter": "python",
   "pygments_lexer": "ipython3",
   "version": "3.10.12"
  }
 },
 "nbformat": 4,
 "nbformat_minor": 5
}
