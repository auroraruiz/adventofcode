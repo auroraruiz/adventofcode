{
 "cells": [
  {
   "cell_type": "markdown",
   "id": "8b6b7247-a23a-4646-8a87-826b1eca89ef",
   "metadata": {},
   "source": [
    "# Day 6 - Solution\n",
    "\n",
    "## [Problem statement](https://adventofcode.com/2023/day/6)"
   ]
  },
  {
   "cell_type": "code",
   "execution_count": 1,
   "id": "0ee7ab12-26b4-4165-9cd8-d0055ecdf471",
   "metadata": {},
   "outputs": [],
   "source": [
    "\"\"\"\n",
    "This module contains the solution to the Day 6 Advent of Code challenge.\n",
    "\"\"\"\n",
    "import os\n",
    "import time"
   ]
  },
  {
   "cell_type": "markdown",
   "id": "b14b73eb-60cc-4574-8f3a-3c420e714dc2",
   "metadata": {},
   "source": [
    "### Parts 1 and 2"
   ]
  },
  {
   "cell_type": "code",
   "execution_count": 2,
   "id": "c35a4f2c-2bd5-4847-88fa-c46329875448",
   "metadata": {},
   "outputs": [],
   "source": [
    "def possibilities(time_p, distance):\n",
    "    \"\"\"\n",
    "    Calculates the number of possible ways to cover a given distance\n",
    "    within a specified time. Speed increases proportionately to time.\n",
    "\n",
    "    Args:\n",
    "    time_p (int): The total time available.\n",
    "    distance (int): The distance to be covered.\n",
    "\n",
    "    Returns:\n",
    "    int: The number of possible ways to cover the distance.\n",
    "    \"\"\"\n",
    "    pos = 0\n",
    "    for ms in range(0, time_p + 1):\n",
    "        speed = ms\n",
    "        sail_time = time_p - ms\n",
    "        distance_ps = sail_time * speed\n",
    "        if distance_ps > distance:\n",
    "            pos += 1\n",
    "    return pos\n",
    "\n",
    "def solution(list_times, list_distances):\n",
    "    \"\"\"\n",
    "    Calculates the total number of possible ways to cover given distances\n",
    "    within specified times.\n",
    "\n",
    "    Args:\n",
    "    list_times (list): A list of total times available for each distance.\n",
    "    list_distances (list): A list of distances to be covered for each time.\n",
    "\n",
    "    Returns:\n",
    "    int: The total number of possible ways to cover all distances.\n",
    "    \"\"\"\n",
    "    pos_total = 1\n",
    "    length = len(list_times)\n",
    "    for i in range(0, length):\n",
    "        pos_total *= possibilities(list_times[i], list_distances[i])\n",
    "    return pos_total"
   ]
  },
  {
   "cell_type": "markdown",
   "id": "2d2e20a6-87ad-453b-ba84-c4e492488140",
   "metadata": {},
   "source": [
    "### Solution"
   ]
  },
  {
   "cell_type": "code",
   "execution_count": 3,
   "id": "01a95140-d40f-4d8b-a301-31892d851fed",
   "metadata": {},
   "outputs": [
    {
     "name": "stdout",
     "output_type": "stream",
     "text": [
      "Solution part 1:  1731600\n",
      "Solution part 2:  40087680\n",
      "Execution time: 3.080873489379883 seconds\n"
     ]
    }
   ],
   "source": [
    "#Solution\n",
    "#Code to open the input file\n",
    "path = os.getcwd()\n",
    "FILE = \"day6.txt\"\n",
    "\n",
    "with open(path + '/' + FILE, encoding = 'utf-8') as f:\n",
    "    lines = f.read().strip()\n",
    "    lines = lines.split('\\n')\n",
    "\n",
    "times = [int(x) for x in lines[0].split(' ')[1:] if x != '']\n",
    "distances =  [int(x) for x in lines[1].split(' ')[1:] if x != '']\n",
    "\n",
    "times2 = int(lines[0].split(':')[-1].replace(\" \",\"\"))\n",
    "distances2 =  int(lines[1].split(':')[-1].replace(\" \",\"\"))\n",
    "\n",
    "start_time = time.time()\n",
    "#Part 1\n",
    "print(\"Solution part 1: \", solution(times, distances))\n",
    "#Part 2\n",
    "print(\"Solution part 2: \", solution([times2],[distances2]))\n",
    "end_time = time.time()\n",
    "print(f\"Execution time: {end_time - start_time} seconds\")"
   ]
  }
 ],
 "metadata": {
  "kernelspec": {
   "display_name": "Python 3 (ipykernel)",
   "language": "python",
   "name": "python3"
  },
  "language_info": {
   "codemirror_mode": {
    "name": "ipython",
    "version": 3
   },
   "file_extension": ".py",
   "mimetype": "text/x-python",
   "name": "python",
   "nbconvert_exporter": "python",
   "pygments_lexer": "ipython3",
   "version": "3.10.12"
  }
 },
 "nbformat": 4,
 "nbformat_minor": 5
}
