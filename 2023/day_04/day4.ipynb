{
 "cells": [
  {
   "cell_type": "markdown",
   "id": "8b6b7247-a23a-4646-8a87-826b1eca89ef",
   "metadata": {},
   "source": [
    "# Day 4 - Solution\n",
    "\n",
    "## [Problem statement](https://adventofcode.com/2023/day/4)"
   ]
  },
  {
   "cell_type": "code",
   "execution_count": 1,
   "id": "0ee7ab12-26b4-4165-9cd8-d0055ecdf471",
   "metadata": {},
   "outputs": [],
   "source": [
    "\"\"\"\n",
    "This module contains the solution to the Day 4 Advent of Code challenge.\n",
    "\"\"\"\n",
    "import os\n",
    "import time"
   ]
  },
  {
   "cell_type": "markdown",
   "id": "b14b73eb-60cc-4574-8f3a-3c420e714dc2",
   "metadata": {},
   "source": [
    "### Parts 1 and 2"
   ]
  },
  {
   "cell_type": "code",
   "execution_count": 2,
   "id": "c35a4f2c-2bd5-4847-88fa-c46329875448",
   "metadata": {},
   "outputs": [],
   "source": [
    "def scratchcards(card_lines):\n",
    "    \"\"\"\n",
    "    Process the cards to count the total number of points won.\n",
    "    Process the cards to count the total number of scratchcards won.\n",
    "\n",
    "    Parameters:\n",
    "        card_lines (List[str]): List of strings representing each a scratchcard\n",
    "\n",
    "    Returns:\n",
    "        Tuple[int, int]:\n",
    "            - total_wins (int): The total points provided by the cards.\n",
    "            - total_cards (int): The total number of cards won.\n",
    "    \"\"\"\n",
    "    total_wins = 0\n",
    "    dict_wins = {}\n",
    "    total_cards = 0\n",
    "\n",
    "    for i, numbers in enumerate(card_lines):\n",
    "        win_numbers = numbers[0].split(\" \")\n",
    "        have_numbers = numbers[1].split(\" \")\n",
    "        points_pow = -1\n",
    "        check = False\n",
    "        for num in have_numbers:\n",
    "            if num.isalnum() and num in win_numbers:\n",
    "                check = True\n",
    "                points_pow += 1\n",
    "        dict_wins[i] = [points_pow+1, 1]\n",
    "        if check:\n",
    "            total_wins += 2**points_pow\n",
    "\n",
    "    for key, value in dict_wins.items():\n",
    "        for key2 in range(key + 1, key + 1 + value[0]):\n",
    "            if key2 in dict_wins:\n",
    "                dict_wins[key2][1] += value[1]\n",
    "        total_cards += value[1]\n",
    "\n",
    "    return total_wins, total_cards"
   ]
  },
  {
   "cell_type": "markdown",
   "id": "2d2e20a6-87ad-453b-ba84-c4e492488140",
   "metadata": {},
   "source": [
    "### Solution"
   ]
  },
  {
   "cell_type": "code",
   "execution_count": 3,
   "id": "01a95140-d40f-4d8b-a301-31892d851fed",
   "metadata": {},
   "outputs": [
    {
     "name": "stdout",
     "output_type": "stream",
     "text": [
      "Solution part 1:  21213\n",
      "Solution part 2:  8549735\n",
      "Execution time: 0.0008544921875 seconds\n"
     ]
    }
   ],
   "source": [
    "#Solution\n",
    "if __name__ == \"__main__\":\n",
    "\n",
    "    #Code to open the input file\n",
    "    path = os.getcwd()\n",
    "    FILE = \"day4.txt\"\n",
    "\n",
    "    with open(path + '/' + FILE, encoding = 'utf-8') as f:\n",
    "        lines = f.read().strip()\n",
    "        lines = lines.split('\\n')\n",
    "\n",
    "    # Special split for Day4\n",
    "    lines = [x.split(':')[1].split(\"|\") for x in lines]\n",
    "\n",
    "    start_time = time.time()\n",
    "    solution = scratchcards(lines)\n",
    "    #Part 1\n",
    "    print(\"Solution part 1: \", solution[0])\n",
    "    #Part 2\n",
    "    print(\"Solution part 2: \",solution[1])\n",
    "    end_time = time.time()\n",
    "    print(f\"Execution time: {end_time - start_time} seconds\")"
   ]
  }
 ],
 "metadata": {
  "kernelspec": {
   "display_name": "Python 3 (ipykernel)",
   "language": "python",
   "name": "python3"
  },
  "language_info": {
   "codemirror_mode": {
    "name": "ipython",
    "version": 3
   },
   "file_extension": ".py",
   "mimetype": "text/x-python",
   "name": "python",
   "nbconvert_exporter": "python",
   "pygments_lexer": "ipython3",
   "version": "3.10.12"
  }
 },
 "nbformat": 4,
 "nbformat_minor": 5
}
