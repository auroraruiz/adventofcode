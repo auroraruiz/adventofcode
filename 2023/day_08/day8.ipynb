{
 "cells": [
  {
   "cell_type": "markdown",
   "id": "8b6b7247-a23a-4646-8a87-826b1eca89ef",
   "metadata": {},
   "source": [
    "# Day 8 - Solution\n",
    "\n",
    "## [Problem statement](https://adventofcode.com/2023/day/8)"
   ]
  },
  {
   "cell_type": "code",
   "execution_count": 1,
   "id": "0ee7ab12-26b4-4165-9cd8-d0055ecdf471",
   "metadata": {},
   "outputs": [],
   "source": [
    "\"\"\"\n",
    "This module contains the solution to the Day 8 Advent of Code challenge.\n",
    "\"\"\"\n",
    "import os\n",
    "import time\n",
    "from functools import reduce\n",
    "import math"
   ]
  },
  {
   "cell_type": "markdown",
   "id": "b14b73eb-60cc-4574-8f3a-3c420e714dc2",
   "metadata": {},
   "source": [
    "### Part 1"
   ]
  },
  {
   "cell_type": "code",
   "execution_count": 2,
   "id": "c35a4f2c-2bd5-4847-88fa-c46329875448",
   "metadata": {},
   "outputs": [],
   "source": [
    "def dict_constructor(nodes):\n",
    "    \"\"\"\n",
    "    Constructs a dictionary from a list of nodes where each node is a string\n",
    "    in the format 'key = value1, value2'.\n",
    "\n",
    "    Args:\n",
    "    nodes (list): A list of strings where each string represents a node\n",
    "    in the format 'key = value1, value2'.\n",
    "\n",
    "    Returns:\n",
    "    dict: A dictionary where keys are node identifiers and values\n",
    "    are tuples of the form (value1, value2).\n",
    "    \"\"\"\n",
    "    result = {}\n",
    "    for node in nodes:\n",
    "        node_pos = node.split(\" = \")\n",
    "        left = node_pos[1].split(', ')[0][-3:]\n",
    "        right = node_pos[1].split(', ')[1][:-1]\n",
    "        result[node_pos[0]] = (left, right)\n",
    "    return result\n",
    "\n",
    "def solution(dictionary, paths, start, end):\n",
    "    \"\"\"\n",
    "    Finds the number of steps to reach the end node from the start node\n",
    "    following a given path.\n",
    "\n",
    "    Args:\n",
    "    dictionary (dict): A dictionary where keys are node identifiers and values\n",
    "    are tuples of the form (left, right).\n",
    "    paths (list): A list of directions ('L' for left, 'R' for right)\n",
    "    to traverse the nodes.\n",
    "    start (str): The starting node identifier.\n",
    "    end (str): The ending node identifier.\n",
    "\n",
    "    Returns:\n",
    "    int: The number of steps required to reach the end node from the start node.\n",
    "    \"\"\"\n",
    "    found = False\n",
    "    s = start\n",
    "    e = end\n",
    "    count = 0\n",
    "    while not found:\n",
    "        length = len(paths)\n",
    "        for i in range(length):\n",
    "            if paths[i] == 'L':\n",
    "                if dictionary.get(s)[0].endswith(e):\n",
    "                    found = True\n",
    "                else:\n",
    "                    s = dictionary.get(s)[0]\n",
    "            else:\n",
    "                if dictionary.get(s)[1].endswith(e):\n",
    "                    found = True\n",
    "                else:\n",
    "                    s = dictionary.get(s)[1]\n",
    "            count += 1\n",
    "    return count"
   ]
  },
  {
   "cell_type": "markdown",
   "id": "4bb3b674-6bd7-49ec-9141-b6b12996c5bb",
   "metadata": {},
   "source": [
    "### Part 2"
   ]
  },
  {
   "cell_type": "code",
   "execution_count": 3,
   "id": "8e38efe2-4c83-4342-94fe-3a4b6befa374",
   "metadata": {},
   "outputs": [],
   "source": [
    "def starts(dictionary):\n",
    "    \"\"\"\n",
    "    Extracts a list of node identifiers that end with 'A' from a given dictionary.\n",
    "\n",
    "    Args:\n",
    "    dictionary (dict): A dictionary where keys are node identifiers.\n",
    "\n",
    "    Returns:\n",
    "    list: A list of node identifiers that end with 'A'.\n",
    "    \"\"\"\n",
    "    starts_list = []\n",
    "    for key in dictionary.keys():\n",
    "        if key.endswith('A'):\n",
    "            starts_list.append(key)\n",
    "    return starts_list\n",
    "\n",
    "def lcm(a, b):\n",
    "    \"\"\"\n",
    "    Calculates the Least Common Multiple (LCM) of two numbers a and b.\n",
    "\n",
    "    Args:\n",
    "    a (int): The first number.\n",
    "    b (int): The second number.\n",
    "\n",
    "    Returns:\n",
    "    int: The LCM of the two numbers.\n",
    "    \"\"\"\n",
    "    return abs(a * b) // math.gcd(a, b)\n",
    "\n",
    "def lcm_of_list(numbers):\n",
    "    \"\"\"\n",
    "    Calculates the Least Common Multiple (LCM) of a list of numbers.\n",
    "\n",
    "    Args:\n",
    "    numbers (list): A list of integers.\n",
    "\n",
    "    Returns:\n",
    "    int: The LCM of the list of numbers.\n",
    "    \"\"\"\n",
    "    return reduce(lcm, numbers)\n",
    "\n",
    "def solution2(dictionary, paths, starts_list):\n",
    "    \"\"\"\n",
    "    Calculates the LCM of the number of steps required to reach\n",
    "    the end node 'Z' from each start node in starts_list.\n",
    "\n",
    "    Args:\n",
    "    dictionary (dict): A dictionary where keys are node identifiers\n",
    "    and values are tuples of the form (left, right).\n",
    "    paths (list): A list of directions ('L' for left, 'R' for right)\n",
    "    to traverse the nodes.\n",
    "    starts_list (list): A list of starting node identifiers.\n",
    "\n",
    "    Returns:\n",
    "    int: The LCM of the number of steps required to reach\n",
    "    the end node 'Z' from each start node.\n",
    "    \"\"\"\n",
    "    start_count = []\n",
    "    for start in starts_list:\n",
    "        start_count.append(solution(dictionary, paths, start, 'Z'))\n",
    "    return lcm_of_list(start_count)"
   ]
  },
  {
   "cell_type": "markdown",
   "id": "2d2e20a6-87ad-453b-ba84-c4e492488140",
   "metadata": {},
   "source": [
    "### Solution"
   ]
  },
  {
   "cell_type": "code",
   "execution_count": 4,
   "id": "01a95140-d40f-4d8b-a301-31892d851fed",
   "metadata": {},
   "outputs": [
    {
     "name": "stdout",
     "output_type": "stream",
     "text": [
      "Solution part 1:  14893\n",
      "Solution part 2:  10241191004509\n",
      "Execution time: 0.019460201263427734 seconds\n"
     ]
    }
   ],
   "source": [
    "#Solution\n",
    "\n",
    "#Code to open the input file\n",
    "path = os.getcwd()\n",
    "FILE = \"day8.txt\"\n",
    "\n",
    "with open(path + '/' + FILE, encoding = 'utf-8') as f:\n",
    "    lines = f.read().strip()\n",
    "    lines = lines.split('\\n\\n')\n",
    "\n",
    "instructions_input = lines[0]\n",
    "nodes_input = list(lines[1].split(\"\\n\"))\n",
    "\n",
    "maps_input = dict_constructor(nodes_input)\n",
    "\n",
    "starts_list_input = starts(maps_input)\n",
    "\n",
    "start_time = time.time()\n",
    "# Part 1\n",
    "print(\"Solution part 1: \", solution(maps_input,\n",
    "                                    instructions_input,\n",
    "                                    start='AAA',\n",
    "                                    end='ZZZ'))\n",
    "# Part 2\n",
    "print(\"Solution part 2: \", solution2(maps_input,\n",
    "                                     instructions_input,\n",
    "                                     starts_list_input))\n",
    "end_time = time.time()\n",
    "print(f\"Execution time: {end_time - start_time} seconds\")"
   ]
  }
 ],
 "metadata": {
  "kernelspec": {
   "display_name": "Python 3 (ipykernel)",
   "language": "python",
   "name": "python3"
  },
  "language_info": {
   "codemirror_mode": {
    "name": "ipython",
    "version": 3
   },
   "file_extension": ".py",
   "mimetype": "text/x-python",
   "name": "python",
   "nbconvert_exporter": "python",
   "pygments_lexer": "ipython3",
   "version": "3.10.12"
  }
 },
 "nbformat": 4,
 "nbformat_minor": 5
}
