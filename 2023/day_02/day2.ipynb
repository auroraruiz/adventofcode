{
 "cells": [
  {
   "cell_type": "markdown",
   "id": "86823ce9-96ec-40e1-a639-cada010f99f9",
   "metadata": {},
   "source": [
    "# Day 2 - Solution\n",
    "\n",
    "## [Problem statement](https://adventofcode.com/2023/day/2)"
   ]
  },
  {
   "cell_type": "code",
   "execution_count": 1,
   "id": "8adeee2c-c191-45a3-997d-1d0a20c5fa7b",
   "metadata": {},
   "outputs": [],
   "source": [
    "\"\"\"\n",
    "This module contains the solution to the Day 2 Advent of Code challenge.\n",
    "\"\"\"\n",
    "\n",
    "#Importing necessary modules\n",
    "import re\n",
    "from functools import reduce\n",
    "import os\n",
    "import time"
   ]
  },
  {
   "cell_type": "code",
   "execution_count": 2,
   "id": "e6cd1f15-d2d5-42e4-98a5-6331d9d7bef7",
   "metadata": {},
   "outputs": [],
   "source": [
    "def map_red_lines(list_, map_function, red_function):\n",
    "    \"\"\"\n",
    "    This is a map-reduce function.\n",
    "    To use it, you need to import reduce from functools.\n",
    "\n",
    "    Parameters:\n",
    "        list_ (Iterable): an iterable object\n",
    "        map_function (function): map fuction\n",
    "        red_function (function): reduce fuction\n",
    "\n",
    "    Returns:\n",
    "        The result of applying map-reduce to the interable.\n",
    "    \"\"\"\n",
    "    return reduce(red_function,(map(map_function,list_)))"
   ]
  },
  {
   "cell_type": "markdown",
   "id": "ec869d10-9eef-4716-ae2a-899bfa9d405f",
   "metadata": {},
   "source": [
    "### Part 1"
   ]
  },
  {
   "cell_type": "code",
   "execution_count": 3,
   "id": "cbd232b7-3003-4dbb-8d1e-c7deb69d1ae5",
   "metadata": {},
   "outputs": [],
   "source": [
    "#Configuration\n",
    "colors = [\"red\",\"green\",\"blue\"]\n",
    "numbers = [12, 13, 14]\n",
    "config = dict(zip(colors,numbers))"
   ]
  },
  {
   "cell_type": "code",
   "execution_count": 4,
   "id": "cfd93c86-61a3-4f14-a8c7-04a93449c7a0",
   "metadata": {},
   "outputs": [],
   "source": [
    "def str_process(game_str):\n",
    "    \"\"\"\n",
    "    This function processes a game string input.\n",
    "\n",
    "    Parameters:\n",
    "        game_str (str): Game string input\n",
    "\n",
    "    Returns:\n",
    "        game_num, game_list (int, list)\n",
    "\n",
    "    Example:\n",
    "        In: 'Game 1: 3 blue, 4 red; 1 red, 2 green, 6 blue; 2 green'\n",
    "        Out: (1, ['3 blue', '4 red', '1 red', '2 green', '6 blue', '2 green'])\n",
    "\n",
    "    \"\"\"\n",
    "    div = game_str.split(\": \")\n",
    "    game_num = div[0].strip(\"Game \")\n",
    "    pattern = r', |; '\n",
    "    game_list = re.split(pattern, div[1])\n",
    "    return int(game_num), game_list"
   ]
  },
  {
   "cell_type": "code",
   "execution_count": 5,
   "id": "13319796-273d-4121-8490-7aa475f1d23a",
   "metadata": {},
   "outputs": [],
   "source": [
    "def base_case(subset_base, dictionary):\n",
    "    \"\"\"\n",
    "    This function returns a True bool if the input subset's number of \n",
    "    cubes of a certain color is equal or less than the one present\n",
    "    in the dictionary. Returns False otherwise.\n",
    "    \n",
    "    Parameters:\n",
    "        subset_base (string): A simple subset\n",
    "        dictionary (dict): The configuration of the maximun number of cubes per color.\n",
    "    \n",
    "    Returns:\n",
    "        result (bool): True if the case is possible. False otherwise.\n",
    "    \n",
    "    Example:\n",
    "        In: '8 blue', config\n",
    "        Out: True\n",
    "    \n",
    "    \"\"\"\n",
    "    sub_num = subset_base.split()[0]\n",
    "    sub_col = subset_base.split()[1]\n",
    "    result = int(sub_num) <= dictionary[sub_col]\n",
    "    return result"
   ]
  },
  {
   "cell_type": "code",
   "execution_count": 6,
   "id": "96debeb4-0528-4a24-bc49-a38e02e3544f",
   "metadata": {},
   "outputs": [],
   "source": [
    "def checks(game_str, base_func=base_case, red_func = lambda a,b: a and b,\n",
    "           proc_func = str_process, dictionary = None):\n",
    "    \"\"\"\n",
    "    This function checks whether the whole game is possible or not. If possible,\n",
    "    returns the id of the game. If not possible, returns 0.\n",
    "    \n",
    "    Parameters:\n",
    "        game_str (string):  Game string input \n",
    "        base_func (function): Base case function to apply to game's subsets\n",
    "        red_func(function): Reduce function\n",
    "        proc_func(function): String processing function\n",
    "        dictionary (dict): The configuration of the maximun number of cubes per color\n",
    "        \n",
    "    Returns:\n",
    "        result (int): If the game is possible, returns the id of the game. \n",
    "        If not possible, returns 0.\n",
    "\n",
    "    Example:\n",
    "        In: 'Game 1: 3 blue, 4 red; 1 red, 2 green, 6 blue; 2 green'\n",
    "        Out: 1\n",
    "\n",
    "    \"\"\"\n",
    "    if dictionary is None:\n",
    "        dictionary = config\n",
    "\n",
    "    game_num, game_list = proc_func(game_str)\n",
    "    check = map(lambda x: base_func(x,dictionary), game_list)\n",
    "    red_check = reduce(red_func, check)\n",
    "    if red_check:\n",
    "        result = game_num\n",
    "    else:\n",
    "        result = 0\n",
    "    return result"
   ]
  },
  {
   "cell_type": "markdown",
   "id": "edfff18f-b5f7-48be-bcef-672f42ec97cc",
   "metadata": {},
   "source": [
    "### Part 2"
   ]
  },
  {
   "cell_type": "code",
   "execution_count": 7,
   "id": "355904ba-0e6d-4460-82e8-5d23b708be24",
   "metadata": {},
   "outputs": [],
   "source": [
    "def maxs(game_str):\n",
    "    \"\"\"\n",
    "    This function finds the minimum set of cubes that must have been present for\n",
    "    the game to be possible and returns the power of that set of cubes, which is equal \n",
    "    to the numbers of red, green, and blue cubes multiplied together.\n",
    "    \n",
    "    Parameters:\n",
    "        game_str (string):  Game string input \n",
    "\n",
    "    Returns:\n",
    "        result (int): Numbers of red, green, and blue cubes multiplied together.\n",
    "        \n",
    "    Example:\n",
    "        In: 'Game 1: 3 blue, 4 red; 1 red, 2 green, 6 blue; 2 green'\n",
    "        Out: 48\n",
    "\n",
    "    \"\"\"\n",
    "    game_list = str_process(game_str)[1]\n",
    "    blue_max = 0\n",
    "    green_max = 0\n",
    "    red_max = 0\n",
    "    for i in game_list:\n",
    "        power =  int(i.split()[0])\n",
    "\n",
    "        if \"blue\" in i:\n",
    "            blue_max = max(blue_max,power)\n",
    "        elif \"green\" in i:\n",
    "            green_max = max(green_max,power)\n",
    "        else:\n",
    "            red_max = max(red_max,power)\n",
    "    result = blue_max * green_max * red_max\n",
    "    return result"
   ]
  },
  {
   "cell_type": "markdown",
   "id": "78638ad8-695d-474a-8981-0f3ea4e01c84",
   "metadata": {},
   "source": [
    "### Solution"
   ]
  },
  {
   "cell_type": "code",
   "execution_count": 8,
   "id": "1b1f21e1-e45f-4ec9-ab0f-c9ca0c125ff9",
   "metadata": {},
   "outputs": [
    {
     "name": "stdout",
     "output_type": "stream",
     "text": [
      "Solution part 1:  2551\n",
      "Time ex. of part 1:  0.0012061595916748047\n",
      "Solution part 2:  62811\n",
      "Time ex. of part 2:  0.0008339881896972656\n"
     ]
    }
   ],
   "source": [
    "#Code to open the input file\n",
    "path = os.getcwd()\n",
    "FILE = \"day2.txt\"\n",
    "\n",
    "with open(path + '/' + FILE, encoding = 'utf-8') as f:\n",
    "    lines = f.readlines()\n",
    "    lines = [item.strip(\"\\n\") for item in lines]\n",
    "\n",
    "#Part 1\n",
    "time_0 = time.time()\n",
    "print(\"Solution part 1: \", map_red_lines(lines, checks, lambda a,b: a+b))\n",
    "time_1 = time.time()\n",
    "print(\"Time ex. of part 1: \", time_1-time_0)\n",
    "\n",
    "#Part 2\n",
    "time_0 = time.time()\n",
    "print(\"Solution part 2: \", map_red_lines(lines, maxs, lambda a,b: a+b))\n",
    "time_2 = time.time()\n",
    "print(\"Time ex. of part 2: \", time_2-time_0)"
   ]
  }
 ],
 "metadata": {
  "kernelspec": {
   "display_name": "Python 3 (ipykernel)",
   "language": "python",
   "name": "python3"
  },
  "language_info": {
   "codemirror_mode": {
    "name": "ipython",
    "version": 3
   },
   "file_extension": ".py",
   "mimetype": "text/x-python",
   "name": "python",
   "nbconvert_exporter": "python",
   "pygments_lexer": "ipython3",
   "version": "3.10.12"
  }
 },
 "nbformat": 4,
 "nbformat_minor": 5
}
