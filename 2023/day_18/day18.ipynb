{
 "cells": [
  {
   "cell_type": "markdown",
   "id": "8b6b7247-a23a-4646-8a87-826b1eca89ef",
   "metadata": {},
   "source": [
    "# Day 18 - Solution\n",
    "\n",
    "## [Problem statement](https://adventofcode.com/2023/day/18)"
   ]
  },
  {
   "cell_type": "code",
   "execution_count": 1,
   "id": "0ee7ab12-26b4-4165-9cd8-d0055ecdf471",
   "metadata": {},
   "outputs": [],
   "source": [
    "\"\"\"\n",
    "This module contains the solution to the Day 18 Advent of Code challenge.\n",
    "\"\"\"\n",
    "import os\n",
    "import time"
   ]
  },
  {
   "cell_type": "markdown",
   "id": "b14b73eb-60cc-4574-8f3a-3c420e714dc2",
   "metadata": {},
   "source": [
    "### Parts 1 and 2"
   ]
  },
  {
   "cell_type": "code",
   "execution_count": 2,
   "id": "ca5ba7e4",
   "metadata": {},
   "outputs": [],
   "source": [
    "def frontier(dirs, start, directions):\n",
    "    \"\"\"\n",
    "    Calculates the number of frontier points and the vertices of a polygon based on given directions.\n",
    "\n",
    "    Args:\n",
    "    dirs (list): A list of tuples containing direction identifiers and step counts.\n",
    "    start (tuple): The starting coordinates (x, y).\n",
    "    directions (dict): A dictionary mapping direction identifiers to coordinate changes.\n",
    "\n",
    "    Returns:\n",
    "    tuple: A tuple containing:\n",
    "        - dug_list (list): A list of tuples representing the vertices of the polygon formed by the dug points.\n",
    "        - frontier_points_count (int): The total count of frontier points dug, including the starting point.\n",
    "    \"\"\"\n",
    "    dug_list = []\n",
    "    frontier_points_count = 1\n",
    "    dug_list.append(start)\n",
    "    next = start\n",
    "    for dir in dirs:\n",
    "        direction = directions[dir[0]]\n",
    "        steps = dir[1]\n",
    "        nx = direction[0]\n",
    "        ny = direction[1]\n",
    "        x = next[0]\n",
    "        y = next[1]\n",
    "        next = (x + nx * int(steps), y + ny * int(steps))\n",
    "        frontier_points_count += int(steps)\n",
    "        dug_list.append(next)\n",
    "    return dug_list, frontier_points_count\n",
    "\n",
    "def shoelace(vertices):\n",
    "    \"\"\"\n",
    "    Calculates the area of a polygon using the shoelace formula.\n",
    "\n",
    "    Args:\n",
    "    vertices (list): A list of tuples representing the vertices of the polygon.\n",
    "\n",
    "    Returns:\n",
    "    float: The area of the polygon.\n",
    "    \"\"\"\n",
    "    area_pol = 0\n",
    "    i = 0\n",
    "    while i < len(vertices):\n",
    "        x_i = vertices[i][0]\n",
    "        y_i1 = vertices[(i + 1) % len(vertices)][1]\n",
    "        y_1i = vertices[(i - 1) % len(vertices)][1]\n",
    "        area_pol += x_i * (y_i1 - y_1i)\n",
    "        i += 1\n",
    "    return 0.5 * abs(area_pol)\n",
    "\n",
    "def pick_theorem(area_pol, boundary_points):\n",
    "    \"\"\"\n",
    "    Calculates the number of interior points of a polygon using Pick's theorem.\n",
    "\n",
    "    Args:\n",
    "    area_pol (float): The area of the polygon.\n",
    "    boundary_points (int): The number of boundary points on the polygon.\n",
    "\n",
    "    Returns:\n",
    "    int: The number of interior points of the polygon.\n",
    "    \"\"\"\n",
    "    interior_points = area_pol - (boundary_points / 2) + 1\n",
    "    return int(interior_points)"
   ]
  },
  {
   "cell_type": "markdown",
   "id": "2d2e20a6-87ad-453b-ba84-c4e492488140",
   "metadata": {},
   "source": [
    "### Solution"
   ]
  },
  {
   "cell_type": "code",
   "execution_count": 3,
   "id": "01a95140-d40f-4d8b-a301-31892d851fed",
   "metadata": {},
   "outputs": [
    {
     "name": "stdout",
     "output_type": "stream",
     "text": [
      "Solution part 1:  52231\n",
      "Solution part 2:  57196493937398\n",
      "Execution time: 0.0008320808410644531 seconds\n"
     ]
    }
   ],
   "source": [
    "# Solution\n",
    "if __name__ == \"__main__\":\n",
    "    # Code to open the input file\n",
    "    path = os.getcwd()\n",
    "    FILE = \"day18.txt\"\n",
    "    \n",
    "    with open(os.path.join(path, FILE), encoding='utf-8') as f:\n",
    "        lines = f.read().strip()\n",
    "        dirs = [tuple(line.split(\" \")[:2]) for line in lines.split('\\n')]\n",
    "        dirs2 = [(line.split(\" \")[-1:][0][7:8], int(line.split(\" \")[-1:][0][2:7], 16)) for line in lines.split('\\n')]\n",
    "\n",
    "    start_time = time.time()\n",
    "\n",
    "    # Define direction mappings for both sets of directions\n",
    "    directions = {'D': (1, 0), 'U': (-1, 0), 'L': (0, -1), 'R': (0, 1)}\n",
    "    directions2 = {'1': (1, 0), '3': (-1, 0), '2': (0, -1), '0': (0, 1)}\n",
    "    start = (0, 0)\n",
    "\n",
    "    # Calculate frontier points and counts for both sets of directions\n",
    "    dug_frontier, frontier_points_count = frontier(dirs, start, directions)\n",
    "    dug_frontier2, frontier_points_count2 = frontier(dirs2, start, directions2)\n",
    "    \n",
    "    # Calculate areas and interior points for both sets of dug points\n",
    "    area = shoelace(dug_frontier)\n",
    "    inside_points = pick_theorem(area, frontier_points_count)\n",
    "    area2 = shoelace(dug_frontier2)\n",
    "    inside_points2 = pick_theorem(area2, frontier_points_count2)\n",
    "\n",
    "    # Part 1 solution\n",
    "    print(\"Solution part 1: \", frontier_points_count + inside_points)\n",
    "    # Part 2 solution\n",
    "    print(\"Solution part 2: \", frontier_points_count2 + inside_points2)\n",
    "    end_time = time.time()\n",
    "    print(f\"Execution time: {end_time - start_time} seconds\")"
   ]
  }
 ],
 "metadata": {
  "kernelspec": {
   "display_name": "Python 3 (ipykernel)",
   "language": "python",
   "name": "python3"
  },
  "language_info": {
   "codemirror_mode": {
    "name": "ipython",
    "version": 3
   },
   "file_extension": ".py",
   "mimetype": "text/x-python",
   "name": "python",
   "nbconvert_exporter": "python",
   "pygments_lexer": "ipython3",
   "version": "3.9.6"
  }
 },
 "nbformat": 4,
 "nbformat_minor": 5
}
