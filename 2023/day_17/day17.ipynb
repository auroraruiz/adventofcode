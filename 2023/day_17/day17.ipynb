{
 "cells": [
  {
   "cell_type": "markdown",
   "id": "8b6b7247-a23a-4646-8a87-826b1eca89ef",
   "metadata": {},
   "source": [
    "# Day 17 - Solution\n",
    "\n",
    "## [Problem statement](https://adventofcode.com/2023/day/17)"
   ]
  },
  {
   "cell_type": "code",
   "execution_count": 1,
   "id": "0ee7ab12-26b4-4165-9cd8-d0055ecdf471",
   "metadata": {},
   "outputs": [],
   "source": [
    "\"\"\"\n",
    "This module contains the solution to the Day 17 Advent of Code challenge.\n",
    "Disclaimer: I used an LLM to help me to solve this problem. Despite succesfully implementing the Dijkstra algorithm myself,\n",
    "after many failed tries I could not set up the specific condition this problem required (no more than 3 steps in the same direction),\n",
    "and used an LLM to help me define the mentioned condition.\n",
    "\"\"\"\n",
    "import os\n",
    "import time\n",
    "import heapq\n",
    "from collections import defaultdict"
   ]
  },
  {
   "cell_type": "markdown",
   "id": "b14b73eb-60cc-4574-8f3a-3c420e714dc2",
   "metadata": {},
   "source": [
    "### Part 1"
   ]
  },
  {
   "cell_type": "code",
   "execution_count": 2,
   "id": "ca5ba7e4",
   "metadata": {},
   "outputs": [],
   "source": [
    "def dijkstra(grid, start, end):\n",
    "    \"\"\"\n",
    "    Implements Dijkstra's algorithm to find the least heat loss path.\n",
    "\n",
    "    Args:\n",
    "    grid (list of list): The grid representing the heat loss values.\n",
    "    start (tuple): The starting coordinates.\n",
    "    end (tuple): The destination coordinates.\n",
    "\n",
    "    Returns:\n",
    "    int: The minimum cost (heat loss) to reach the end.\n",
    "    \"\"\"\n",
    "    queue = [(0, start[0], start[1], 0, 0, 0)]  # Priority queue initialized with (cost, x, y, dx, dy, straight)\n",
    "    seen = defaultdict(lambda: float('inf'))  # Dictionary to track minimum costs\n",
    "\n",
    "    while queue:\n",
    "        cost, x, y, dx, dy, straight = heapq.heappop(queue)  # Get the lowest cost item\n",
    "        \n",
    "        if (x, y) == end:  # If reached the end, return the cost\n",
    "            return cost\n",
    "\n",
    "        if cost > seen[(x, y, dx, dy, straight)]:  # Ignore if cost is not minimal\n",
    "            continue\n",
    "        \n",
    "        # Explore all possible movements\n",
    "        for new_dx, new_dy in [(0, 1), (0, -1), (1, 0), (-1, 0)]:\n",
    "            new_x, new_y = x + new_dx, y + new_dy  # Calculate new position\n",
    "            new_straight = straight + 1 if (new_dx, new_dy) == (dx, dy) else 1  # Update straight movement count\n",
    "\n",
    "            # Ensure valid movements\n",
    "            if (new_x, new_y) == (x - dx, y - dy):  # Cannot reverse direction\n",
    "                continue\n",
    "            if not (0 <= new_x < len(grid) and 0 <= new_y < len(grid[0])):  # Check bounds\n",
    "                continue\n",
    "            if new_straight > 3:  # Limit straight movement\n",
    "                continue\n",
    "            \n",
    "            new_cost = cost + grid[new_x][new_y]  # Calculate new cost\n",
    "            if new_cost < seen[(new_x, new_y, new_dx, new_dy, new_straight)]:\n",
    "                seen[(new_x, new_y, new_dx, new_dy, new_straight)] = new_cost\n",
    "                heapq.heappush(queue, (new_cost, new_x, new_y, new_dx, new_dy, new_straight))  # Push new state onto queue\n",
    "    \n",
    "    return float('inf')  # Return infinity if no path found"
   ]
  },
  {
   "cell_type": "markdown",
   "id": "e50dd70c",
   "metadata": {},
   "source": [
    "### Part 2"
   ]
  },
  {
   "cell_type": "code",
   "execution_count": 3,
   "id": "c35a4f2c-2bd5-4847-88fa-c46329875448",
   "metadata": {},
   "outputs": [],
   "source": [
    "def dijkstra2(grid, start, end):\n",
    "    \"\"\"\n",
    "    Implements a modified Dijkstra's algorithm for ultra crucibles.\n",
    "\n",
    "    Args:\n",
    "    grid (list of list): The grid representing the heat loss values.\n",
    "    start (tuple): The starting coordinates.\n",
    "    end (tuple): The destination coordinates.\n",
    "\n",
    "    Returns:\n",
    "    int: The minimum cost (heat loss) to reach the end with ultra crucible rules.\n",
    "    \"\"\"\n",
    "    initial_cost = sum(grid[0][i] for i in range(1, 4))  # Initial cost based on starting row\n",
    "    queue = [(initial_cost, 0, 3, 0, 1, 3)]  # Initialize queue for ultra crucible\n",
    "    seen = defaultdict(lambda: float('inf'))  # Track minimum costs\n",
    "    \n",
    "    while queue:\n",
    "        cost, x, y, dx, dy, straight = heapq.heappop(queue)  # Get the lowest cost item\n",
    "        \n",
    "        if (x, y) == end and straight >= 4:  # Check for end condition with straight constraint\n",
    "            return cost\n",
    "\n",
    "        if cost >= seen[(x, y, dx, dy, straight)]:  # Ignore non-minimal costs\n",
    "            continue\n",
    "        \n",
    "        seen[(x, y, dx, dy, straight)] = cost  # Record the current cost\n",
    "        \n",
    "        # Explore all possible movements\n",
    "        for new_dx, new_dy in [(0, 1), (0, -1), (1, 0), (-1, 0)]:\n",
    "            new_x, new_y = x + new_dx, y + new_dy  # Calculate new position\n",
    "            \n",
    "            if (new_dx, new_dy) == (-dx, -dy):  # Cannot reverse direction\n",
    "                continue\n",
    "            if not (0 <= new_x < len(grid) and 0 <= new_y < len(grid[0])):  # Check bounds\n",
    "                continue\n",
    "            \n",
    "            new_straight = straight + 1 if (new_dx, new_dy) == (dx, dy) else 1  # Update straight movement count\n",
    "\n",
    "            # Ensure movement constraints\n",
    "            if new_straight > 10:  # Max straight movement for ultra crucible\n",
    "                continue\n",
    "            if (new_dx, new_dy) != (dx, dy) and straight < 4:  # Must have straight movement for turning\n",
    "                continue\n",
    "            \n",
    "            new_cost = cost + grid[new_x][new_y]  # Calculate new cost\n",
    "            heapq.heappush(queue, (new_cost, new_x, new_y, new_dx, new_dy, new_straight))  # Push new state onto queue\n",
    "        \n",
    "    return float('inf')  # Return infinity if no path found"
   ]
  },
  {
   "cell_type": "markdown",
   "id": "7f488c21",
   "metadata": {},
   "source": [
    "### Solution"
   ]
  },
  {
   "cell_type": "code",
   "execution_count": 4,
   "id": "0086540d",
   "metadata": {},
   "outputs": [
    {
     "name": "stdout",
     "output_type": "stream",
     "text": [
      "Solution part 1:  814\n",
      "Solution part 2:  974\n",
      "Execution time: 3.07637095451355 seconds\n"
     ]
    }
   ],
   "source": [
    "if __name__ == \"__main__\":\n",
    "    # Code to open the input file\n",
    "    path = os.getcwd()\n",
    "    FILE = \"day17.txt\"\n",
    "    \n",
    "    with open(os.path.join(path, FILE), encoding='utf-8') as f:\n",
    "        lines = f.read().strip()\n",
    "        grid = [list(map(int, x)) for x in lines.split('\\n')]\n",
    "\n",
    "    start_time = time.time()\n",
    "\n",
    "    start = (0, 0)\n",
    "    end = (len(grid) - 1, len(grid[0]) - 1)\n",
    "\n",
    "    sol = dijkstra(grid, start, end)\n",
    "    sol2 = dijkstra2(grid, start, end)\n",
    "\n",
    "    # Part 1 solution\n",
    "    print(\"Solution part 1: \", sol)\n",
    "    # Part 2 solution\n",
    "    print(\"Solution part 2: \", sol2)\n",
    "    end_time = time.time()\n",
    "    print(f\"Execution time: {end_time - start_time} seconds\")"
   ]
  }
 ],
 "metadata": {
  "kernelspec": {
   "display_name": "Python 3 (ipykernel)",
   "language": "python",
   "name": "python3"
  },
  "language_info": {
   "codemirror_mode": {
    "name": "ipython",
    "version": 3
   },
   "file_extension": ".py",
   "mimetype": "text/x-python",
   "name": "python",
   "nbconvert_exporter": "python",
   "pygments_lexer": "ipython3",
   "version": "3.9.6"
  }
 },
 "nbformat": 4,
 "nbformat_minor": 5
}
